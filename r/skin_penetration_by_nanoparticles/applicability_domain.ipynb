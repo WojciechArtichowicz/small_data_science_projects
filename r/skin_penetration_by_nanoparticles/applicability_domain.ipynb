{
 "cells": [
  {
   "cell_type": "code",
   "execution_count": 19,
   "metadata": {},
   "outputs": [],
   "source": [
    "library(geometry)\n",
    "library(openxlsx)\n",
    "\n",
    "normalize_vec <- function(v,.min = NULL,.max=NULL)\n",
    "{\n",
    "  if (is.null(.min)) a <- min(v) else a <- .min\n",
    "  if (is.null(.max)) b <- max(v) else b <- .max\n",
    "\n",
    "  return( (v-a)/(b-a) )\n",
    "}\n",
    "\n",
    "\n",
    "normalize_df <- function(df,.Min=NULL,.Max=NULL)\n",
    "{\n",
    "  nc <- ncol(df)\n",
    "  if (is.null(.Min)) .Min <- rep(NULL,nc)  \n",
    "  if (is.null(.Max)) .Max <- rep(NULL,nc)  \n",
    "    \n",
    "  ret = df\n",
    "  for (i in 1:nc)\n",
    "  {\n",
    "    ret[i] <- normalize_vec(df[i],.min=.Min[i],.max=.Max[i])\n",
    "  }\n",
    "  return(ret)\n",
    "}\n",
    "\n",
    "colMins <- function(df)\n",
    "{\n",
    "    nc <- ncol(df)\n",
    "    ret<-rep(NULL,nc)\n",
    "    \n",
    "    for (i in 1:nc)\n",
    "        ret[i] <- min(df[i])\n",
    "    return(ret)\n",
    "}\n",
    "\n",
    "colMaxs <- function(df)\n",
    "{\n",
    "    nc <- ncol(df)\n",
    "    ret<-rep(NULL,nc)\n",
    "    \n",
    "    for (i in 1:nc)\n",
    "        ret[i] <- max(df[i])\n",
    "    return(ret)    \n",
    "}"
   ]
  },
  {
   "cell_type": "code",
   "execution_count": 20,
   "metadata": {},
   "outputs": [
    {
     "data": {
      "text/html": [
       "<ol class=list-inline>\n",
       "\t<li>'data/k_means.xlsx'</li>\n",
       "\t<li>'data/random.xlsx'</li>\n",
       "\t<li>'data/som.xlsx'</li>\n",
       "\t<li>'data/kenndard_stone.xlsx'</li>\n",
       "</ol>\n"
      ],
      "text/latex": [
       "\\begin{enumerate*}\n",
       "\\item 'data/k\\_means.xlsx'\n",
       "\\item 'data/random.xlsx'\n",
       "\\item 'data/som.xlsx'\n",
       "\\item 'data/kenndard\\_stone.xlsx'\n",
       "\\end{enumerate*}\n"
      ],
      "text/markdown": [
       "1. 'data/k_means.xlsx'\n",
       "2. 'data/random.xlsx'\n",
       "3. 'data/som.xlsx'\n",
       "4. 'data/kenndard_stone.xlsx'\n",
       "\n",
       "\n"
      ],
      "text/plain": [
       "[1] \"data/k_means.xlsx\"        \"data/random.xlsx\"        \n",
       "[3] \"data/som.xlsx\"            \"data/kenndard_stone.xlsx\""
      ]
     },
     "metadata": {},
     "output_type": "display_data"
    }
   ],
   "source": [
    "method_file_name <- c(\"k_means\", \"random\",\"som\", \"kenndard_stone\")\n",
    "data_file_path <- paste(\"data/\",method_file_name,\".xlsx\",sep=\"\")\n",
    "data_file_path"
   ]
  },
  {
   "cell_type": "code",
   "execution_count": 21,
   "metadata": {},
   "outputs": [],
   "source": [
    "features <- c('Conc', 'SA', 'V', 'SA/V', 'Th-SC', 'Th-Ep', 'Th-T', 'Fol-Den', 'Fol-Dia', 'Enh', 'Kow', \n",
    "              'ConAng', 'Kow-sw', 'ConAng-sw')\n",
    "features_reduced <- c('SA/V','Th-SC','Th-Ep','Th-T','Fol-Den','Fol-Dia','Kow','ConAng','Kow-sw')\n",
    "\n",
    "label <- 'Layer'\n",
    "labelQ <- 'LayerQ'"
   ]
  },
  {
   "cell_type": "code",
   "execution_count": 67,
   "metadata": {},
   "outputs": [],
   "source": [
    "df_tv_list <- list()\n",
    "\n",
    "for (i in 1:length(method_file_name))\n",
    "{\n",
    "      train_df <- read.xlsx(data_file_path[i], sheet = 1) # training dataset\n",
    "      validation_df <- read.xlsx(data_file_path[i], sheet = 2) # validation dataset\n",
    "      test_df <- read.xlsx(data_file_path[i], sheet = 3) # testing dataset \n",
    "    \n",
    "     #removing the label columns\n",
    "     train_df[label] <- NULL\n",
    "     validation_df[label] <- NULL\n",
    "     test_df[label] <- NULL\n",
    "    \n",
    "     train_df[labelQ] <- NULL\n",
    "     validation_df[labelQ] <- NULL\n",
    "     test_df[labelQ] <- NULL\n",
    "    \n",
    "     \n",
    "    #get the unique observations and bind the dfs\n",
    "    df_tv_list[[i]] <- unique(rbind(train_df,validation_df))[,features_reduced]       \n",
    "    #df_tv_list[[i]] <- unique(train_df)[,features_reduced] \n",
    "    #df_tv_list[[i]] <- unique(validation_df)[,features_reduced] \n",
    "    #df_tv_list[[i]] <- unique(test_df)[,features_reduced] \n",
    "}\n",
    "\n",
    "df_all <- unique(rbind(train_df,validation_df,test_df))[,features_reduced]"
   ]
  },
  {
   "cell_type": "code",
   "execution_count": 54,
   "metadata": {},
   "outputs": [
    {
     "data": {
      "text/html": [
       "<ol class=list-inline>\n",
       "\t<li>0.0300000000000001</li>\n",
       "\t<li>6.18</li>\n",
       "\t<li>11.73</li>\n",
       "\t<li>0.7</li>\n",
       "\t<li>0</li>\n",
       "\t<li>25</li>\n",
       "\t<li>-3.57</li>\n",
       "\t<li>0</li>\n",
       "\t<li>0</li>\n",
       "</ol>\n"
      ],
      "text/latex": [
       "\\begin{enumerate*}\n",
       "\\item 0.0300000000000001\n",
       "\\item 6.18\n",
       "\\item 11.73\n",
       "\\item 0.7\n",
       "\\item 0\n",
       "\\item 25\n",
       "\\item -3.57\n",
       "\\item 0\n",
       "\\item 0\n",
       "\\end{enumerate*}\n"
      ],
      "text/markdown": [
       "1. 0.0300000000000001\n",
       "2. 6.18\n",
       "3. 11.73\n",
       "4. 0.7\n",
       "5. 0\n",
       "6. 25\n",
       "7. -3.57\n",
       "8. 0\n",
       "9. 0\n",
       "\n",
       "\n"
      ],
      "text/plain": [
       "[1]  0.03  6.18 11.73  0.70  0.00 25.00 -3.57  0.00  0.00"
      ]
     },
     "metadata": {},
     "output_type": "display_data"
    },
    {
     "data": {
      "text/html": [
       "<ol class=list-inline>\n",
       "\t<li>1.5</li>\n",
       "\t<li>17.82125</li>\n",
       "\t<li>67.5428571428571</li>\n",
       "\t<li>2.54742</li>\n",
       "\t<li>366.5</li>\n",
       "\t<li>200</li>\n",
       "\t<li>2.59</li>\n",
       "\t<li>151</li>\n",
       "\t<li>1</li>\n",
       "</ol>\n"
      ],
      "text/latex": [
       "\\begin{enumerate*}\n",
       "\\item 1.5\n",
       "\\item 17.82125\n",
       "\\item 67.5428571428571\n",
       "\\item 2.54742\n",
       "\\item 366.5\n",
       "\\item 200\n",
       "\\item 2.59\n",
       "\\item 151\n",
       "\\item 1\n",
       "\\end{enumerate*}\n"
      ],
      "text/markdown": [
       "1. 1.5\n",
       "2. 17.82125\n",
       "3. 67.5428571428571\n",
       "4. 2.54742\n",
       "5. 366.5\n",
       "6. 200\n",
       "7. 2.59\n",
       "8. 151\n",
       "9. 1\n",
       "\n",
       "\n"
      ],
      "text/plain": [
       "[1]   1.50000  17.82125  67.54286   2.54742 366.50000 200.00000   2.59000\n",
       "[8] 151.00000   1.00000"
      ]
     },
     "metadata": {},
     "output_type": "display_data"
    }
   ],
   "source": [
    "nc <- length(features_reduced)\n",
    "minimums_all <- colMins(df_all)\n",
    "maximums_all <- colMaxs(df_all)\n",
    "\n",
    "minimums_all\n",
    "maximums_all"
   ]
  },
  {
   "cell_type": "code",
   "execution_count": 68,
   "metadata": {},
   "outputs": [],
   "source": [
    "#finding minimums and maximus of all observations, including testing set\n",
    "minimums <- list()\n",
    "maximums <- list()\n",
    "\n",
    "for (i in 1:length(method_file_name))\n",
    "{\n",
    "    minimums[[i]] <- colMins( df_tv_list[[i]] )\n",
    "    maximums[[i]] <- colMaxs( df_tv_list[[i]] )\n",
    "}"
   ]
  },
  {
   "cell_type": "markdown",
   "metadata": {},
   "source": [
    "**Aplpicability domain for the whole dataset**"
   ]
  },
  {
   "cell_type": "code",
   "execution_count": 56,
   "metadata": {},
   "outputs": [
    {
     "data": {
      "text/html": [
       "1.94600470628564e-05"
      ],
      "text/latex": [
       "1.94600470628564e-05"
      ],
      "text/markdown": [
       "1.94600470628564e-05"
      ],
      "text/plain": [
       "[1] 1.946005e-05"
      ]
     },
     "metadata": {},
     "output_type": "display_data"
    }
   ],
   "source": [
    "convex_hull <- convhulln(as.matrix( normalize_df(df_all,minimums_all,maximums_all) ) ,\"FS TO 'volume.txt'\");\n",
    "qh.outp <- scan(\"volume.txt\")\n",
    "QH_volume_all<- qh.outp[4] \n",
    "QH_volume_all"
   ]
  },
  {
   "cell_type": "code",
   "execution_count": 69,
   "metadata": {},
   "outputs": [
    {
     "data": {
      "text/html": [
       "<dl>\n",
       "\t<dt>$k_means</dt>\n",
       "\t\t<dd>1.4323416987209e-05</dd>\n",
       "\t<dt>$random</dt>\n",
       "\t\t<dd>1.4323416987209e-05</dd>\n",
       "\t<dt>$som</dt>\n",
       "\t\t<dd>1.4323416987209e-05</dd>\n",
       "\t<dt>$kenndard_stone</dt>\n",
       "\t\t<dd>1.4323416987209e-05</dd>\n",
       "</dl>\n"
      ],
      "text/latex": [
       "\\begin{description}\n",
       "\\item[\\$k\\_means] 1.4323416987209e-05\n",
       "\\item[\\$random] 1.4323416987209e-05\n",
       "\\item[\\$som] 1.4323416987209e-05\n",
       "\\item[\\$kenndard\\_stone] 1.4323416987209e-05\n",
       "\\end{description}\n"
      ],
      "text/markdown": [
       "$k_means\n",
       ":   1.4323416987209e-05\n",
       "$random\n",
       ":   1.4323416987209e-05\n",
       "$som\n",
       ":   1.4323416987209e-05\n",
       "$kenndard_stone\n",
       ":   1.4323416987209e-05\n",
       "\n",
       "\n"
      ],
      "text/plain": [
       "$k_means\n",
       "[1] 1.432342e-05\n",
       "\n",
       "$random\n",
       "[1] 1.432342e-05\n",
       "\n",
       "$som\n",
       "[1] 1.432342e-05\n",
       "\n",
       "$kenndard_stone\n",
       "[1] 1.432342e-05\n"
      ]
     },
     "metadata": {},
     "output_type": "display_data"
    }
   ],
   "source": [
    "QH_volumes <- list()\n",
    "for (i in 1:length(method_file_name))\n",
    "{\n",
    "    convex_hull <- convhulln(as.matrix( normalize_df(df_tv_list[[i]],minimums_all,maximums_all) ) ,\"FS TO 'volume.txt'\");\n",
    "    qh.outp <- scan(\"volume.txt\")    \n",
    "    QH_volumes[method_file_name[i]] <- qh.outp[4] \n",
    "}\n",
    "QH_volumes"
   ]
  },
  {
   "cell_type": "code",
   "execution_count": null,
   "metadata": {},
   "outputs": [],
   "source": []
  }
 ],
 "metadata": {
  "kernelspec": {
   "display_name": "R",
   "language": "R",
   "name": "ir"
  },
  "language_info": {
   "codemirror_mode": "r",
   "file_extension": ".r",
   "mimetype": "text/x-r-source",
   "name": "R",
   "pygments_lexer": "r",
   "version": "3.6.1"
  }
 },
 "nbformat": 4,
 "nbformat_minor": 2
}
