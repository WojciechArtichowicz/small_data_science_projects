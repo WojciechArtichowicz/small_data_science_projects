{
 "cells": [
  {
   "cell_type": "markdown",
   "metadata": {},
   "source": [
    "### Skin penetration by nanoparticles"
   ]
  },
  {
   "cell_type": "markdown",
   "metadata": {},
   "source": [
    "#### Importing the libraries"
   ]
  },
  {
   "cell_type": "code",
   "execution_count": 1,
   "metadata": {},
   "outputs": [
    {
     "name": "stderr",
     "output_type": "stream",
     "text": [
      "Loading required package: gridExtra\n",
      "Registered S3 method overwritten by 'GGally':\n",
      "  method from   \n",
      "  +.gg   ggplot2\n",
      "Welcome! Related Books: `Practical Guide To Cluster Analysis in R` at https://goo.gl/13EFCZ\n"
     ]
    }
   ],
   "source": [
    "library(openxlsx)\n",
    "library(ggplot2)\n",
    "library(egg)\n",
    "library(GGally)\n",
    "library(Rtsne)\n",
    "library(FactoMineR)\n",
    "library(factoextra)"
   ]
  },
  {
   "cell_type": "markdown",
   "metadata": {},
   "source": [
    "#### Importing the data"
   ]
  },
  {
   "cell_type": "code",
   "execution_count": 2,
   "metadata": {},
   "outputs": [
    {
     "data": {
      "text/html": [
       "<table>\n",
       "<thead><tr><th scope=col>Conc</th><th scope=col>SA</th><th scope=col>V</th><th scope=col>SA/V</th><th scope=col>Th-SC</th><th scope=col>Th-Ep</th><th scope=col>Th-T</th><th scope=col>Fol-Den</th><th scope=col>Fol-Dia</th><th scope=col>Enh</th><th scope=col>Kow</th><th scope=col>ConAng</th><th scope=col>Kow-sw</th><th scope=col>ConAng-sw</th><th scope=col>LayerQ</th></tr></thead>\n",
       "<tbody>\n",
       "\t<tr><td>15.8547179</td><td> 1256.637 </td><td>  4188.79 </td><td>0.3000000 </td><td>15.00     </td><td>67.5      </td><td>2.48      </td><td>264.8     </td><td> 97       </td><td>0         </td><td> 0.00     </td><td>72        </td><td>0         </td><td>1         </td><td>A         </td></tr>\n",
       "\t<tr><td> 0.1268377</td><td>31415.927 </td><td>523598.78 </td><td>0.0600000 </td><td>15.00     </td><td>67.5      </td><td>2.48      </td><td>264.8     </td><td> 97       </td><td>0         </td><td> 0.00     </td><td>72        </td><td>0         </td><td>1         </td><td>A         </td></tr>\n",
       "\t<tr><td> 3.9636795</td><td> 3298.672 </td><td> 41887.90 </td><td>0.0787500 </td><td>17.80     </td><td>61.1      </td><td>2.54      </td><td> 11.0     </td><td>200       </td><td>0         </td><td> 0.00     </td><td>72        </td><td>0         </td><td>1         </td><td>A         </td></tr>\n",
       "\t<tr><td> 9.4000000</td><td> 4300.840 </td><td> 26521.85 </td><td>0.1621622 </td><td> 8.90     </td><td>28.6      </td><td>0.70      </td><td>365.5     </td><td> 36       </td><td>0         </td><td>-1.16     </td><td> 0        </td><td>1         </td><td>0         </td><td>B         </td></tr>\n",
       "\t<tr><td> 0.2830662</td><td>10838.495 </td><td> 70685.83 </td><td>0.1533333 </td><td>17.80     </td><td>61.1      </td><td>2.54      </td><td> 11.0     </td><td>117       </td><td>0         </td><td> 0.00     </td><td>25        </td><td>0         </td><td>1         </td><td>B         </td></tr>\n",
       "\t<tr><td> 1.0000000</td><td> 4901.670 </td><td> 32269.33 </td><td>0.1518987 </td><td>17.82     </td><td>61.1      </td><td>2.54      </td><td> 11.0     </td><td>117       </td><td>0         </td><td>-1.16     </td><td> 0        </td><td>1         </td><td>0         </td><td>B         </td></tr>\n",
       "</tbody>\n",
       "</table>\n"
      ],
      "text/latex": [
       "\\begin{tabular}{r|lllllllllllllll}\n",
       " Conc & SA & V & SA/V & Th-SC & Th-Ep & Th-T & Fol-Den & Fol-Dia & Enh & Kow & ConAng & Kow-sw & ConAng-sw & LayerQ\\\\\n",
       "\\hline\n",
       "\t 15.8547179 &  1256.637  &   4188.79  & 0.3000000  & 15.00      & 67.5       & 2.48       & 264.8      &  97        & 0          &  0.00      & 72         & 0          & 1          & A         \\\\\n",
       "\t  0.1268377 & 31415.927  & 523598.78  & 0.0600000  & 15.00      & 67.5       & 2.48       & 264.8      &  97        & 0          &  0.00      & 72         & 0          & 1          & A         \\\\\n",
       "\t  3.9636795 &  3298.672  &  41887.90  & 0.0787500  & 17.80      & 61.1       & 2.54       &  11.0      & 200        & 0          &  0.00      & 72         & 0          & 1          & A         \\\\\n",
       "\t  9.4000000 &  4300.840  &  26521.85  & 0.1621622  &  8.90      & 28.6       & 0.70       & 365.5      &  36        & 0          & -1.16      &  0         & 1          & 0          & B         \\\\\n",
       "\t  0.2830662 & 10838.495  &  70685.83  & 0.1533333  & 17.80      & 61.1       & 2.54       &  11.0      & 117        & 0          &  0.00      & 25         & 0          & 1          & B         \\\\\n",
       "\t  1.0000000 &  4901.670  &  32269.33  & 0.1518987  & 17.82      & 61.1       & 2.54       &  11.0      & 117        & 0          & -1.16      &  0         & 1          & 0          & B         \\\\\n",
       "\\end{tabular}\n"
      ],
      "text/markdown": [
       "\n",
       "| Conc | SA | V | SA/V | Th-SC | Th-Ep | Th-T | Fol-Den | Fol-Dia | Enh | Kow | ConAng | Kow-sw | ConAng-sw | LayerQ |\n",
       "|---|---|---|---|---|---|---|---|---|---|---|---|---|---|---|\n",
       "| 15.8547179 |  1256.637  |   4188.79  | 0.3000000  | 15.00      | 67.5       | 2.48       | 264.8      |  97        | 0          |  0.00      | 72         | 0          | 1          | A          |\n",
       "|  0.1268377 | 31415.927  | 523598.78  | 0.0600000  | 15.00      | 67.5       | 2.48       | 264.8      |  97        | 0          |  0.00      | 72         | 0          | 1          | A          |\n",
       "|  3.9636795 |  3298.672  |  41887.90  | 0.0787500  | 17.80      | 61.1       | 2.54       |  11.0      | 200        | 0          |  0.00      | 72         | 0          | 1          | A          |\n",
       "|  9.4000000 |  4300.840  |  26521.85  | 0.1621622  |  8.90      | 28.6       | 0.70       | 365.5      |  36        | 0          | -1.16      |  0         | 1          | 0          | B          |\n",
       "|  0.2830662 | 10838.495  |  70685.83  | 0.1533333  | 17.80      | 61.1       | 2.54       |  11.0      | 117        | 0          |  0.00      | 25         | 0          | 1          | B          |\n",
       "|  1.0000000 |  4901.670  |  32269.33  | 0.1518987  | 17.82      | 61.1       | 2.54       |  11.0      | 117        | 0          | -1.16      |  0         | 1          | 0          | B          |\n",
       "\n"
      ],
      "text/plain": [
       "  Conc       SA        V         SA/V      Th-SC Th-Ep Th-T Fol-Den Fol-Dia Enh\n",
       "1 15.8547179  1256.637   4188.79 0.3000000 15.00 67.5  2.48 264.8    97     0  \n",
       "2  0.1268377 31415.927 523598.78 0.0600000 15.00 67.5  2.48 264.8    97     0  \n",
       "3  3.9636795  3298.672  41887.90 0.0787500 17.80 61.1  2.54  11.0   200     0  \n",
       "4  9.4000000  4300.840  26521.85 0.1621622  8.90 28.6  0.70 365.5    36     0  \n",
       "5  0.2830662 10838.495  70685.83 0.1533333 17.80 61.1  2.54  11.0   117     0  \n",
       "6  1.0000000  4901.670  32269.33 0.1518987 17.82 61.1  2.54  11.0   117     0  \n",
       "  Kow   ConAng Kow-sw ConAng-sw LayerQ\n",
       "1  0.00 72     0      1         A     \n",
       "2  0.00 72     0      1         A     \n",
       "3  0.00 72     0      1         A     \n",
       "4 -1.16  0     1      0         B     \n",
       "5  0.00 25     0      1         B     \n",
       "6 -1.16  0     1      0         B     "
      ]
     },
     "metadata": {},
     "output_type": "display_data"
    },
    {
     "data": {
      "text/html": [
       "<table>\n",
       "<thead><tr><th scope=col>Conc</th><th scope=col>SA</th><th scope=col>V</th><th scope=col>SA/V</th><th scope=col>Th-SC</th><th scope=col>Th-Ep</th><th scope=col>Th-T</th><th scope=col>Fol-Den</th><th scope=col>Fol-Dia</th><th scope=col>Enh</th><th scope=col>Kow</th><th scope=col>ConAng</th><th scope=col>Kow-sw</th><th scope=col>ConAng-sw</th><th scope=col>LayerQ</th></tr></thead>\n",
       "<tbody>\n",
       "\t<tr><td>1.268377e-01</td><td>31415.927   </td><td>523598.776  </td><td>0.0600000   </td><td>15.00000    </td><td>67.50000    </td><td>2.48000     </td><td>264.8000    </td><td> 97         </td><td>0           </td><td>0           </td><td> 72         </td><td>0           </td><td>1           </td><td>A           </td></tr>\n",
       "\t<tr><td>1.283477e-07</td><td> 1256.637   </td><td>  4188.790  </td><td>0.3000000   </td><td>17.82125    </td><td>61.10000    </td><td>2.54742     </td><td> 11.0000    </td><td>117         </td><td>0           </td><td>0           </td><td> 75         </td><td>0           </td><td>1           </td><td>A           </td></tr>\n",
       "\t<tr><td>1.767606e+00</td><td> 5026.548   </td><td> 33510.322  </td><td>0.1500000   </td><td>15.58889    </td><td>67.54286    </td><td>2.48000     </td><td>264.8333    </td><td> 97         </td><td>0           </td><td>0           </td><td>151         </td><td>0           </td><td>1           </td><td>B           </td></tr>\n",
       "\t<tr><td>1.693880e+00</td><td> 2042.035   </td><td> 25132.741  </td><td>0.0812500   </td><td>17.82125    </td><td>61.10000    </td><td>2.54742     </td><td> 11.0000    </td><td>117         </td><td>0           </td><td>0           </td><td> 90         </td><td>0           </td><td>1           </td><td>B           </td></tr>\n",
       "\t<tr><td>7.642787e-02</td><td> 8835.729   </td><td>261799.388  </td><td>0.0337500   </td><td>17.80000    </td><td>61.10000    </td><td>2.54000     </td><td> 11.0000    </td><td>117         </td><td>0           </td><td>0           </td><td> 25         </td><td>0           </td><td>1           </td><td>B           </td></tr>\n",
       "\t<tr><td>1.804133e+01</td><td> 2123.717   </td><td>  9202.772  </td><td>0.2307692   </td><td>17.80000    </td><td>61.10000    </td><td>2.54000     </td><td> 11.0000    </td><td>117         </td><td>0           </td><td>0           </td><td>139         </td><td>0           </td><td>1           </td><td>B           </td></tr>\n",
       "</tbody>\n",
       "</table>\n"
      ],
      "text/latex": [
       "\\begin{tabular}{r|lllllllllllllll}\n",
       " Conc & SA & V & SA/V & Th-SC & Th-Ep & Th-T & Fol-Den & Fol-Dia & Enh & Kow & ConAng & Kow-sw & ConAng-sw & LayerQ\\\\\n",
       "\\hline\n",
       "\t 1.268377e-01 & 31415.927    & 523598.776   & 0.0600000    & 15.00000     & 67.50000     & 2.48000      & 264.8000     &  97          & 0            & 0            &  72          & 0            & 1            & A           \\\\\n",
       "\t 1.283477e-07 &  1256.637    &   4188.790   & 0.3000000    & 17.82125     & 61.10000     & 2.54742      &  11.0000     & 117          & 0            & 0            &  75          & 0            & 1            & A           \\\\\n",
       "\t 1.767606e+00 &  5026.548    &  33510.322   & 0.1500000    & 15.58889     & 67.54286     & 2.48000      & 264.8333     &  97          & 0            & 0            & 151          & 0            & 1            & B           \\\\\n",
       "\t 1.693880e+00 &  2042.035    &  25132.741   & 0.0812500    & 17.82125     & 61.10000     & 2.54742      &  11.0000     & 117          & 0            & 0            &  90          & 0            & 1            & B           \\\\\n",
       "\t 7.642787e-02 &  8835.729    & 261799.388   & 0.0337500    & 17.80000     & 61.10000     & 2.54000      &  11.0000     & 117          & 0            & 0            &  25          & 0            & 1            & B           \\\\\n",
       "\t 1.804133e+01 &  2123.717    &   9202.772   & 0.2307692    & 17.80000     & 61.10000     & 2.54000      &  11.0000     & 117          & 0            & 0            & 139          & 0            & 1            & B           \\\\\n",
       "\\end{tabular}\n"
      ],
      "text/markdown": [
       "\n",
       "| Conc | SA | V | SA/V | Th-SC | Th-Ep | Th-T | Fol-Den | Fol-Dia | Enh | Kow | ConAng | Kow-sw | ConAng-sw | LayerQ |\n",
       "|---|---|---|---|---|---|---|---|---|---|---|---|---|---|---|\n",
       "| 1.268377e-01 | 31415.927    | 523598.776   | 0.0600000    | 15.00000     | 67.50000     | 2.48000      | 264.8000     |  97          | 0            | 0            |  72          | 0            | 1            | A            |\n",
       "| 1.283477e-07 |  1256.637    |   4188.790   | 0.3000000    | 17.82125     | 61.10000     | 2.54742      |  11.0000     | 117          | 0            | 0            |  75          | 0            | 1            | A            |\n",
       "| 1.767606e+00 |  5026.548    |  33510.322   | 0.1500000    | 15.58889     | 67.54286     | 2.48000      | 264.8333     |  97          | 0            | 0            | 151          | 0            | 1            | B            |\n",
       "| 1.693880e+00 |  2042.035    |  25132.741   | 0.0812500    | 17.82125     | 61.10000     | 2.54742      |  11.0000     | 117          | 0            | 0            |  90          | 0            | 1            | B            |\n",
       "| 7.642787e-02 |  8835.729    | 261799.388   | 0.0337500    | 17.80000     | 61.10000     | 2.54000      |  11.0000     | 117          | 0            | 0            |  25          | 0            | 1            | B            |\n",
       "| 1.804133e+01 |  2123.717    |   9202.772   | 0.2307692    | 17.80000     | 61.10000     | 2.54000      |  11.0000     | 117          | 0            | 0            | 139          | 0            | 1            | B            |\n",
       "\n"
      ],
      "text/plain": [
       "  Conc         SA        V          SA/V      Th-SC    Th-Ep    Th-T   \n",
       "1 1.268377e-01 31415.927 523598.776 0.0600000 15.00000 67.50000 2.48000\n",
       "2 1.283477e-07  1256.637   4188.790 0.3000000 17.82125 61.10000 2.54742\n",
       "3 1.767606e+00  5026.548  33510.322 0.1500000 15.58889 67.54286 2.48000\n",
       "4 1.693880e+00  2042.035  25132.741 0.0812500 17.82125 61.10000 2.54742\n",
       "5 7.642787e-02  8835.729 261799.388 0.0337500 17.80000 61.10000 2.54000\n",
       "6 1.804133e+01  2123.717   9202.772 0.2307692 17.80000 61.10000 2.54000\n",
       "  Fol-Den  Fol-Dia Enh Kow ConAng Kow-sw ConAng-sw LayerQ\n",
       "1 264.8000  97     0   0    72    0      1         A     \n",
       "2  11.0000 117     0   0    75    0      1         A     \n",
       "3 264.8333  97     0   0   151    0      1         B     \n",
       "4  11.0000 117     0   0    90    0      1         B     \n",
       "5  11.0000 117     0   0    25    0      1         B     \n",
       "6  11.0000 117     0   0   139    0      1         B     "
      ]
     },
     "metadata": {},
     "output_type": "display_data"
    },
    {
     "data": {
      "text/html": [
       "<table>\n",
       "<thead><tr><th scope=col>Conc</th><th scope=col>SA</th><th scope=col>V</th><th scope=col>SA/V</th><th scope=col>Th-SC</th><th scope=col>Th-Ep</th><th scope=col>Th-T</th><th scope=col>Fol-Den</th><th scope=col>Fol-Dia</th><th scope=col>Enh</th><th scope=col>Kow</th><th scope=col>ConAng</th><th scope=col>Kow-sw</th><th scope=col>ConAng-sw</th><th scope=col>LayerQ</th></tr></thead>\n",
       "<tbody>\n",
       "\t<tr><td> 7.3957868 </td><td>3848.4510  </td><td>22449.29750</td><td>0.1714286  </td><td>17.80000   </td><td>61.10000   </td><td>2.54       </td><td> 11.0000   </td><td>200        </td><td>0          </td><td> 0.00      </td><td> 72        </td><td>0          </td><td>1          </td><td>A          </td></tr>\n",
       "\t<tr><td>33.5190452 </td><td> 706.8583  </td><td> 1767.14587</td><td>0.4000000  </td><td>15.58889   </td><td>67.54286   </td><td>2.48       </td><td>264.8333   </td><td> 97        </td><td>0          </td><td> 0.00      </td><td>151        </td><td>0          </td><td>1          </td><td>B          </td></tr>\n",
       "\t<tr><td>10.0000000 </td><td>4901.6699  </td><td>32269.32709</td><td>0.1518987  </td><td>17.82000   </td><td>61.10000   </td><td>2.54       </td><td> 11.0000   </td><td>117        </td><td>0          </td><td>-1.16      </td><td>  0        </td><td>1          </td><td>0          </td><td>B          </td></tr>\n",
       "\t<tr><td> 1.0000000 </td><td>  66.4761  </td><td>   50.96501</td><td>1.3043478  </td><td>16.60000   </td><td>32.00000   </td><td>2.09       </td><td>289.0000   </td><td> 25        </td><td>0          </td><td>-1.16      </td><td>  0        </td><td>1          </td><td>0          </td><td>B          </td></tr>\n",
       "\t<tr><td> 2.5367549 </td><td>7853.9816  </td><td>65449.84695</td><td>0.1200000  </td><td>17.80000   </td><td>61.10000   </td><td>2.54       </td><td> 11.0000   </td><td>117        </td><td>0          </td><td> 0.00      </td><td> 72        </td><td>0          </td><td>1          </td><td>B          </td></tr>\n",
       "\t<tr><td> 0.5661324 </td><td>6126.1057  </td><td>35342.91735</td><td>0.1733333  </td><td>17.80000   </td><td>61.10000   </td><td>2.54       </td><td> 11.0000   </td><td>117        </td><td>0          </td><td> 0.00      </td><td> 25        </td><td>0          </td><td>1          </td><td>B          </td></tr>\n",
       "</tbody>\n",
       "</table>\n"
      ],
      "text/latex": [
       "\\begin{tabular}{r|lllllllllllllll}\n",
       " Conc & SA & V & SA/V & Th-SC & Th-Ep & Th-T & Fol-Den & Fol-Dia & Enh & Kow & ConAng & Kow-sw & ConAng-sw & LayerQ\\\\\n",
       "\\hline\n",
       "\t  7.3957868  & 3848.4510   & 22449.29750 & 0.1714286   & 17.80000    & 61.10000    & 2.54        &  11.0000    & 200         & 0           &  0.00       &  72         & 0           & 1           & A          \\\\\n",
       "\t 33.5190452  &  706.8583   &  1767.14587 & 0.4000000   & 15.58889    & 67.54286    & 2.48        & 264.8333    &  97         & 0           &  0.00       & 151         & 0           & 1           & B          \\\\\n",
       "\t 10.0000000  & 4901.6699   & 32269.32709 & 0.1518987   & 17.82000    & 61.10000    & 2.54        &  11.0000    & 117         & 0           & -1.16       &   0         & 1           & 0           & B          \\\\\n",
       "\t  1.0000000  &   66.4761   &    50.96501 & 1.3043478   & 16.60000    & 32.00000    & 2.09        & 289.0000    &  25         & 0           & -1.16       &   0         & 1           & 0           & B          \\\\\n",
       "\t  2.5367549  & 7853.9816   & 65449.84695 & 0.1200000   & 17.80000    & 61.10000    & 2.54        &  11.0000    & 117         & 0           &  0.00       &  72         & 0           & 1           & B          \\\\\n",
       "\t  0.5661324  & 6126.1057   & 35342.91735 & 0.1733333   & 17.80000    & 61.10000    & 2.54        &  11.0000    & 117         & 0           &  0.00       &  25         & 0           & 1           & B          \\\\\n",
       "\\end{tabular}\n"
      ],
      "text/markdown": [
       "\n",
       "| Conc | SA | V | SA/V | Th-SC | Th-Ep | Th-T | Fol-Den | Fol-Dia | Enh | Kow | ConAng | Kow-sw | ConAng-sw | LayerQ |\n",
       "|---|---|---|---|---|---|---|---|---|---|---|---|---|---|---|\n",
       "|  7.3957868  | 3848.4510   | 22449.29750 | 0.1714286   | 17.80000    | 61.10000    | 2.54        |  11.0000    | 200         | 0           |  0.00       |  72         | 0           | 1           | A           |\n",
       "| 33.5190452  |  706.8583   |  1767.14587 | 0.4000000   | 15.58889    | 67.54286    | 2.48        | 264.8333    |  97         | 0           |  0.00       | 151         | 0           | 1           | B           |\n",
       "| 10.0000000  | 4901.6699   | 32269.32709 | 0.1518987   | 17.82000    | 61.10000    | 2.54        |  11.0000    | 117         | 0           | -1.16       |   0         | 1           | 0           | B           |\n",
       "|  1.0000000  |   66.4761   |    50.96501 | 1.3043478   | 16.60000    | 32.00000    | 2.09        | 289.0000    |  25         | 0           | -1.16       |   0         | 1           | 0           | B           |\n",
       "|  2.5367549  | 7853.9816   | 65449.84695 | 0.1200000   | 17.80000    | 61.10000    | 2.54        |  11.0000    | 117         | 0           |  0.00       |  72         | 0           | 1           | B           |\n",
       "|  0.5661324  | 6126.1057   | 35342.91735 | 0.1733333   | 17.80000    | 61.10000    | 2.54        |  11.0000    | 117         | 0           |  0.00       |  25         | 0           | 1           | B           |\n",
       "\n"
      ],
      "text/plain": [
       "  Conc       SA        V           SA/V      Th-SC    Th-Ep    Th-T Fol-Den \n",
       "1  7.3957868 3848.4510 22449.29750 0.1714286 17.80000 61.10000 2.54  11.0000\n",
       "2 33.5190452  706.8583  1767.14587 0.4000000 15.58889 67.54286 2.48 264.8333\n",
       "3 10.0000000 4901.6699 32269.32709 0.1518987 17.82000 61.10000 2.54  11.0000\n",
       "4  1.0000000   66.4761    50.96501 1.3043478 16.60000 32.00000 2.09 289.0000\n",
       "5  2.5367549 7853.9816 65449.84695 0.1200000 17.80000 61.10000 2.54  11.0000\n",
       "6  0.5661324 6126.1057 35342.91735 0.1733333 17.80000 61.10000 2.54  11.0000\n",
       "  Fol-Dia Enh Kow   ConAng Kow-sw ConAng-sw LayerQ\n",
       "1 200     0    0.00  72    0      1         A     \n",
       "2  97     0    0.00 151    0      1         B     \n",
       "3 117     0   -1.16   0    1      0         B     \n",
       "4  25     0   -1.16   0    1      0         B     \n",
       "5 117     0    0.00  72    0      1         B     \n",
       "6 117     0    0.00  25    0      1         B     "
      ]
     },
     "metadata": {},
     "output_type": "display_data"
    }
   ],
   "source": [
    "method_file_name = \"som\"\n",
    "data_file_path = paste(\"data/\",method_file_name,\".xlsx\",sep=\"\")\n",
    "\n",
    "train_df <- read.xlsx(data_file_path, sheet = 1) # training dataset\n",
    "validation_df <- read.xlsx(data_file_path, sheet = 2) # validation dataset\n",
    "test_df <- read.xlsx(data_file_path, sheet = 3) # testing dataset\n",
    "\n",
    "\n",
    "#features names\n",
    "features <- colnames(train_df)[-ncol(train_df)]\n",
    "#labels\n",
    "label <- colnames(train_df)[ncol(train_df)-1]\n",
    "labelQ <- colnames(train_df)[ncol(train_df)]\n",
    "\n",
    "#removing the duplicate column\n",
    "train_df[label] <- NULL\n",
    "validation_df[label] <- NULL\n",
    "test_df[label] <- NULL\n",
    "\n",
    "features <- colnames(train_df)[-ncol(train_df)]\n",
    "#changing the label character to factor\n",
    "train_df[labelQ] <- as.factor(train_df[,labelQ])\n",
    "validation_df[labelQ] <- as.factor(validation_df[,labelQ])\n",
    "test_df[labelQ] <- as.factor(test_df[,labelQ])\n",
    "\n",
    "head(train_df)\n",
    "head(validation_df)\n",
    "head(test_df)"
   ]
  },
  {
   "cell_type": "markdown",
   "metadata": {},
   "source": [
    "#### Checking for duplicated entries"
   ]
  },
  {
   "cell_type": "code",
   "execution_count": 3,
   "metadata": {},
   "outputs": [
    {
     "data": {
      "text/html": [
       "<table>\n",
       "<thead><tr><th></th><th scope=col>train</th><th scope=col>validation</th><th scope=col>test</th></tr></thead>\n",
       "<tbody>\n",
       "\t<tr><th scope=row>nrow(df)</th><td>265</td><td>30 </td><td>32 </td></tr>\n",
       "\t<tr><th scope=row>nrow(unique(df))</th><td> 98</td><td>29 </td><td>31 </td></tr>\n",
       "</tbody>\n",
       "</table>\n"
      ],
      "text/latex": [
       "\\begin{tabular}{r|lll}\n",
       "  & train & validation & test\\\\\n",
       "\\hline\n",
       "\tnrow(df) & 265 & 30  & 32 \\\\\n",
       "\tnrow(unique(df)) &  98 & 29  & 31 \\\\\n",
       "\\end{tabular}\n"
      ],
      "text/markdown": [
       "\n",
       "| <!--/--> | train | validation | test |\n",
       "|---|---|---|---|\n",
       "| nrow(df) | 265 | 30  | 32  |\n",
       "| nrow(unique(df)) |  98 | 29  | 31  |\n",
       "\n"
      ],
      "text/plain": [
       "                 train validation test\n",
       "nrow(df)         265   30         32  \n",
       "nrow(unique(df))  98   29         31  "
      ]
     },
     "metadata": {},
     "output_type": "display_data"
    }
   ],
   "source": [
    "counts <- data.frame(\n",
    "           train=c(nrow(train_df),nrow(unique(train_df))),\n",
    "           validation=c(nrow(validation_df),nrow(unique(validation_df))),\n",
    "           test=c(nrow(test_df),nrow(unique(test_df))))\n",
    "\n",
    "rownames(counts) <- c(\"nrow(df)\",\"nrow(unique(df))\")\n",
    "counts"
   ]
  },
  {
   "cell_type": "markdown",
   "metadata": {},
   "source": [
    "#### Checking if all datasets have the same columns"
   ]
  },
  {
   "cell_type": "code",
   "execution_count": 4,
   "metadata": {},
   "outputs": [
    {
     "data": {
      "text/html": [
       "TRUE"
      ],
      "text/latex": [
       "TRUE"
      ],
      "text/markdown": [
       "TRUE"
      ],
      "text/plain": [
       "[1] TRUE"
      ]
     },
     "metadata": {},
     "output_type": "display_data"
    },
    {
     "data": {
      "text/html": [
       "<ol class=list-inline>\n",
       "\t<li>'Conc'</li>\n",
       "\t<li>'SA'</li>\n",
       "\t<li>'V'</li>\n",
       "\t<li>'SA/V'</li>\n",
       "\t<li>'Th-SC'</li>\n",
       "\t<li>'Th-Ep'</li>\n",
       "\t<li>'Th-T'</li>\n",
       "\t<li>'Fol-Den'</li>\n",
       "\t<li>'Fol-Dia'</li>\n",
       "\t<li>'Enh'</li>\n",
       "\t<li>'Kow'</li>\n",
       "\t<li>'ConAng'</li>\n",
       "\t<li>'Kow-sw'</li>\n",
       "\t<li>'ConAng-sw'</li>\n",
       "\t<li>'LayerQ'</li>\n",
       "</ol>\n"
      ],
      "text/latex": [
       "\\begin{enumerate*}\n",
       "\\item 'Conc'\n",
       "\\item 'SA'\n",
       "\\item 'V'\n",
       "\\item 'SA/V'\n",
       "\\item 'Th-SC'\n",
       "\\item 'Th-Ep'\n",
       "\\item 'Th-T'\n",
       "\\item 'Fol-Den'\n",
       "\\item 'Fol-Dia'\n",
       "\\item 'Enh'\n",
       "\\item 'Kow'\n",
       "\\item 'ConAng'\n",
       "\\item 'Kow-sw'\n",
       "\\item 'ConAng-sw'\n",
       "\\item 'LayerQ'\n",
       "\\end{enumerate*}\n"
      ],
      "text/markdown": [
       "1. 'Conc'\n",
       "2. 'SA'\n",
       "3. 'V'\n",
       "4. 'SA/V'\n",
       "5. 'Th-SC'\n",
       "6. 'Th-Ep'\n",
       "7. 'Th-T'\n",
       "8. 'Fol-Den'\n",
       "9. 'Fol-Dia'\n",
       "10. 'Enh'\n",
       "11. 'Kow'\n",
       "12. 'ConAng'\n",
       "13. 'Kow-sw'\n",
       "14. 'ConAng-sw'\n",
       "15. 'LayerQ'\n",
       "\n",
       "\n"
      ],
      "text/plain": [
       " [1] \"Conc\"      \"SA\"        \"V\"         \"SA/V\"      \"Th-SC\"     \"Th-Ep\"    \n",
       " [7] \"Th-T\"      \"Fol-Den\"   \"Fol-Dia\"   \"Enh\"       \"Kow\"       \"ConAng\"   \n",
       "[13] \"Kow-sw\"    \"ConAng-sw\" \"LayerQ\"   "
      ]
     },
     "metadata": {},
     "output_type": "display_data"
    },
    {
     "data": {
      "text/html": [
       "<ol class=list-inline>\n",
       "\t<li>'Conc'</li>\n",
       "\t<li>'SA'</li>\n",
       "\t<li>'V'</li>\n",
       "\t<li>'SA/V'</li>\n",
       "\t<li>'Th-SC'</li>\n",
       "\t<li>'Th-Ep'</li>\n",
       "\t<li>'Th-T'</li>\n",
       "\t<li>'Fol-Den'</li>\n",
       "\t<li>'Fol-Dia'</li>\n",
       "\t<li>'Enh'</li>\n",
       "\t<li>'Kow'</li>\n",
       "\t<li>'ConAng'</li>\n",
       "\t<li>'Kow-sw'</li>\n",
       "\t<li>'ConAng-sw'</li>\n",
       "\t<li>'LayerQ'</li>\n",
       "</ol>\n"
      ],
      "text/latex": [
       "\\begin{enumerate*}\n",
       "\\item 'Conc'\n",
       "\\item 'SA'\n",
       "\\item 'V'\n",
       "\\item 'SA/V'\n",
       "\\item 'Th-SC'\n",
       "\\item 'Th-Ep'\n",
       "\\item 'Th-T'\n",
       "\\item 'Fol-Den'\n",
       "\\item 'Fol-Dia'\n",
       "\\item 'Enh'\n",
       "\\item 'Kow'\n",
       "\\item 'ConAng'\n",
       "\\item 'Kow-sw'\n",
       "\\item 'ConAng-sw'\n",
       "\\item 'LayerQ'\n",
       "\\end{enumerate*}\n"
      ],
      "text/markdown": [
       "1. 'Conc'\n",
       "2. 'SA'\n",
       "3. 'V'\n",
       "4. 'SA/V'\n",
       "5. 'Th-SC'\n",
       "6. 'Th-Ep'\n",
       "7. 'Th-T'\n",
       "8. 'Fol-Den'\n",
       "9. 'Fol-Dia'\n",
       "10. 'Enh'\n",
       "11. 'Kow'\n",
       "12. 'ConAng'\n",
       "13. 'Kow-sw'\n",
       "14. 'ConAng-sw'\n",
       "15. 'LayerQ'\n",
       "\n",
       "\n"
      ],
      "text/plain": [
       " [1] \"Conc\"      \"SA\"        \"V\"         \"SA/V\"      \"Th-SC\"     \"Th-Ep\"    \n",
       " [7] \"Th-T\"      \"Fol-Den\"   \"Fol-Dia\"   \"Enh\"       \"Kow\"       \"ConAng\"   \n",
       "[13] \"Kow-sw\"    \"ConAng-sw\" \"LayerQ\"   "
      ]
     },
     "metadata": {},
     "output_type": "display_data"
    },
    {
     "data": {
      "text/html": [
       "<ol class=list-inline>\n",
       "\t<li>'Conc'</li>\n",
       "\t<li>'SA'</li>\n",
       "\t<li>'V'</li>\n",
       "\t<li>'SA/V'</li>\n",
       "\t<li>'Th-SC'</li>\n",
       "\t<li>'Th-Ep'</li>\n",
       "\t<li>'Th-T'</li>\n",
       "\t<li>'Fol-Den'</li>\n",
       "\t<li>'Fol-Dia'</li>\n",
       "\t<li>'Enh'</li>\n",
       "\t<li>'Kow'</li>\n",
       "\t<li>'ConAng'</li>\n",
       "\t<li>'Kow-sw'</li>\n",
       "\t<li>'ConAng-sw'</li>\n",
       "\t<li>'LayerQ'</li>\n",
       "</ol>\n"
      ],
      "text/latex": [
       "\\begin{enumerate*}\n",
       "\\item 'Conc'\n",
       "\\item 'SA'\n",
       "\\item 'V'\n",
       "\\item 'SA/V'\n",
       "\\item 'Th-SC'\n",
       "\\item 'Th-Ep'\n",
       "\\item 'Th-T'\n",
       "\\item 'Fol-Den'\n",
       "\\item 'Fol-Dia'\n",
       "\\item 'Enh'\n",
       "\\item 'Kow'\n",
       "\\item 'ConAng'\n",
       "\\item 'Kow-sw'\n",
       "\\item 'ConAng-sw'\n",
       "\\item 'LayerQ'\n",
       "\\end{enumerate*}\n"
      ],
      "text/markdown": [
       "1. 'Conc'\n",
       "2. 'SA'\n",
       "3. 'V'\n",
       "4. 'SA/V'\n",
       "5. 'Th-SC'\n",
       "6. 'Th-Ep'\n",
       "7. 'Th-T'\n",
       "8. 'Fol-Den'\n",
       "9. 'Fol-Dia'\n",
       "10. 'Enh'\n",
       "11. 'Kow'\n",
       "12. 'ConAng'\n",
       "13. 'Kow-sw'\n",
       "14. 'ConAng-sw'\n",
       "15. 'LayerQ'\n",
       "\n",
       "\n"
      ],
      "text/plain": [
       " [1] \"Conc\"      \"SA\"        \"V\"         \"SA/V\"      \"Th-SC\"     \"Th-Ep\"    \n",
       " [7] \"Th-T\"      \"Fol-Den\"   \"Fol-Dia\"   \"Enh\"       \"Kow\"       \"ConAng\"   \n",
       "[13] \"Kow-sw\"    \"ConAng-sw\" \"LayerQ\"   "
      ]
     },
     "metadata": {},
     "output_type": "display_data"
    }
   ],
   "source": [
    "(colnames(train_df) == colnames(validation_df)) && (colnames(train_df) == colnames(test_df))\n",
    "#double check\n",
    "colnames(train_df)\n",
    "colnames(validation_df)\n",
    "colnames(test_df)"
   ]
  },
  {
   "cell_type": "markdown",
   "metadata": {},
   "source": [
    "#### Checking the distribution of classes in the dataset"
   ]
  },
  {
   "cell_type": "code",
   "execution_count": 5,
   "metadata": {},
   "outputs": [
    {
     "name": "stdout",
     "output_type": "stream",
     "text": [
      "[1] \"training set\"\n"
     ]
    },
    {
     "data": {
      "image/png": "[encoded data removed]",
      "text/plain": [
       "plot without title"
      ]
     },
     "metadata": {},
     "output_type": "display_data"
    },
    {
     "name": "stdout",
     "output_type": "stream",
     "text": [
      "[1] \"validation set\"\n"
     ]
    },
    {
     "data": {
      "image/png": "[encoded data removed]",
      "text/plain": [
       "plot without title"
      ]
     },
     "metadata": {},
     "output_type": "display_data"
    },
    {
     "name": "stdout",
     "output_type": "stream",
     "text": [
      "[1] \"testing set\"\n"
     ]
    },
    {
     "data": {
      "image/png": "[encoded data removed]",
      "text/plain": [
       "plot without title"
      ]
     },
     "metadata": {},
     "output_type": "display_data"
    }
   ],
   "source": [
    "options(repr.plot.width = 6, repr.plot.height = 3)\n",
    "\n",
    "ggarrange(ggplot(data = unique(train_df),aes(x = LayerQ)) + geom_bar(),\n",
    "          ggplot(data = train_df,aes(x = LayerQ)) + geom_bar(), # the set is balanced by oversampling\n",
    "          labels = c(\"unique\", \"oversampling\"),\n",
    "          ncol = 2, nrow = 1)\n",
    "print(\"training set\")\n",
    "ggarrange(ggplot(data = unique(validation_df),aes(x = LayerQ)) + geom_bar(),\n",
    "          ggplot(data = validation_df,aes(x = LayerQ)) + geom_bar(), # the set is balanced by oversampling\n",
    "          labels = c(\"unique\", \"oversampling\"),\n",
    "          ncol = 2, nrow = 1)\n",
    "print(\"validation set\")\n",
    "ggarrange(ggplot(data = unique(test_df),aes(x = LayerQ)) + geom_bar(),\n",
    "          ggplot(data = test_df,aes(x = LayerQ)) + geom_bar(), # the set is balanced by oversampling\n",
    "          labels = c(\"unique\", \"oversampling\"),\n",
    "          ncol = 2, nrow = 1)\n",
    "print(\"testing set\")"
   ]
  },
  {
   "cell_type": "markdown",
   "metadata": {},
   "source": [
    "#### Simple analysis of the data (whole dataset)"
   ]
  },
  {
   "cell_type": "code",
   "execution_count": 6,
   "metadata": {},
   "outputs": [
    {
     "data": {
      "text/plain": [
       "      Conc                SA                  V                SA/V       \n",
       " Min.   :     0.0   Min.   :    50.27   Min.   :     34   Min.   :0.0300  \n",
       " 1st Qu.:     0.7   1st Qu.:  1256.64   1st Qu.:   4189   1st Qu.:0.1276  \n",
       " Median :     2.4   Median :  3848.45   Median :  22089   Median :0.2000  \n",
       " Mean   :  2634.2   Mean   :  8462.81   Mean   : 137066   Mean   :0.2963  \n",
       " 3rd Qu.:     8.1   3rd Qu.:  8465.02   3rd Qu.:  70686   3rd Qu.:0.3000  \n",
       " Max.   :388879.3   Max.   :125663.71   Max.   :4188790   Max.   :1.5000  \n",
       "     Th-SC           Th-Ep            Th-T          Fol-Den     \n",
       " Min.   : 6.18   Min.   :11.73   Min.   :0.700   Min.   :  0.0  \n",
       " 1st Qu.:15.00   1st Qu.:61.10   1st Qu.:2.480   1st Qu.: 11.0  \n",
       " Median :15.59   Median :61.10   Median :2.540   Median : 11.0  \n",
       " Mean   :15.98   Mean   :59.77   Mean   :2.436   Mean   :107.5  \n",
       " 3rd Qu.:17.80   3rd Qu.:67.50   3rd Qu.:2.540   3rd Qu.:264.8  \n",
       " Max.   :17.82   Max.   :67.54   Max.   :2.547   Max.   :366.5  \n",
       "    Fol-Dia           Enh               Kow               ConAng      \n",
       " Min.   : 25.0   Min.   :0.00000   Min.   :-3.57000   Min.   :  0.00  \n",
       " 1st Qu.: 97.0   1st Qu.:0.00000   1st Qu.: 0.00000   1st Qu.: 70.00  \n",
       " Median :117.0   Median :0.00000   Median : 0.00000   Median : 72.00  \n",
       " Mean   :105.2   Mean   :0.02685   Mean   :-0.09191   Mean   : 70.22  \n",
       " 3rd Qu.:117.0   3rd Qu.:0.00000   3rd Qu.: 0.00000   3rd Qu.: 90.00  \n",
       " Max.   :200.0   Max.   :1.00000   Max.   : 2.59000   Max.   :151.00  \n",
       "     Kow-sw         ConAng-sw      LayerQ\n",
       " Min.   :0.0000   Min.   :0.0000   A: 5  \n",
       " 1st Qu.:0.0000   1st Qu.:1.0000   B:79  \n",
       " Median :0.0000   Median :1.0000   C:59  \n",
       " Mean   :0.1477   Mean   :0.8523   D: 2  \n",
       " 3rd Qu.:0.0000   3rd Qu.:1.0000   E: 4  \n",
       " Max.   :1.0000   Max.   :1.0000         "
      ]
     },
     "metadata": {},
     "output_type": "display_data"
    },
    {
     "data": {
      "text/html": [
       "<table>\n",
       "<thead><tr><th scope=col>Conc</th><th scope=col>SA</th><th scope=col>V</th><th scope=col>SA/V</th><th scope=col>Th-SC</th><th scope=col>Th-Ep</th><th scope=col>Th-T</th><th scope=col>Fol-Den</th><th scope=col>Fol-Dia</th><th scope=col>Enh</th><th scope=col>Kow</th><th scope=col>ConAng</th><th scope=col>Kow-sw</th><th scope=col>ConAng-sw</th><th scope=col>LayerQ</th></tr></thead>\n",
       "<tbody>\n",
       "\t<tr><td>15.8547179</td><td> 1256.637 </td><td>  4188.79 </td><td>0.3000000 </td><td>15.00     </td><td>67.5      </td><td>2.48      </td><td>264.8     </td><td> 97       </td><td>0         </td><td> 0.00     </td><td>72        </td><td>0         </td><td>1         </td><td>A         </td></tr>\n",
       "\t<tr><td> 0.1268377</td><td>31415.927 </td><td>523598.78 </td><td>0.0600000 </td><td>15.00     </td><td>67.5      </td><td>2.48      </td><td>264.8     </td><td> 97       </td><td>0         </td><td> 0.00     </td><td>72        </td><td>0         </td><td>1         </td><td>A         </td></tr>\n",
       "\t<tr><td> 3.9636795</td><td> 3298.672 </td><td> 41887.90 </td><td>0.0787500 </td><td>17.80     </td><td>61.1      </td><td>2.54      </td><td> 11.0     </td><td>200       </td><td>0         </td><td> 0.00     </td><td>72        </td><td>0         </td><td>1         </td><td>A         </td></tr>\n",
       "\t<tr><td> 9.4000000</td><td> 4300.840 </td><td> 26521.85 </td><td>0.1621622 </td><td> 8.90     </td><td>28.6      </td><td>0.70      </td><td>365.5     </td><td> 36       </td><td>0         </td><td>-1.16     </td><td> 0        </td><td>1         </td><td>0         </td><td>B         </td></tr>\n",
       "\t<tr><td> 0.2830662</td><td>10838.495 </td><td> 70685.83 </td><td>0.1533333 </td><td>17.80     </td><td>61.1      </td><td>2.54      </td><td> 11.0     </td><td>117       </td><td>0         </td><td> 0.00     </td><td>25        </td><td>0         </td><td>1         </td><td>B         </td></tr>\n",
       "\t<tr><td> 1.0000000</td><td> 4901.670 </td><td> 32269.33 </td><td>0.1518987 </td><td>17.82     </td><td>61.1      </td><td>2.54      </td><td> 11.0     </td><td>117       </td><td>0         </td><td>-1.16     </td><td> 0        </td><td>1         </td><td>0         </td><td>B         </td></tr>\n",
       "</tbody>\n",
       "</table>\n"
      ],
      "text/latex": [
       "\\begin{tabular}{r|lllllllllllllll}\n",
       " Conc & SA & V & SA/V & Th-SC & Th-Ep & Th-T & Fol-Den & Fol-Dia & Enh & Kow & ConAng & Kow-sw & ConAng-sw & LayerQ\\\\\n",
       "\\hline\n",
       "\t 15.8547179 &  1256.637  &   4188.79  & 0.3000000  & 15.00      & 67.5       & 2.48       & 264.8      &  97        & 0          &  0.00      & 72         & 0          & 1          & A         \\\\\n",
       "\t  0.1268377 & 31415.927  & 523598.78  & 0.0600000  & 15.00      & 67.5       & 2.48       & 264.8      &  97        & 0          &  0.00      & 72         & 0          & 1          & A         \\\\\n",
       "\t  3.9636795 &  3298.672  &  41887.90  & 0.0787500  & 17.80      & 61.1       & 2.54       &  11.0      & 200        & 0          &  0.00      & 72         & 0          & 1          & A         \\\\\n",
       "\t  9.4000000 &  4300.840  &  26521.85  & 0.1621622  &  8.90      & 28.6       & 0.70       & 365.5      &  36        & 0          & -1.16      &  0         & 1          & 0          & B         \\\\\n",
       "\t  0.2830662 & 10838.495  &  70685.83  & 0.1533333  & 17.80      & 61.1       & 2.54       &  11.0      & 117        & 0          &  0.00      & 25         & 0          & 1          & B         \\\\\n",
       "\t  1.0000000 &  4901.670  &  32269.33  & 0.1518987  & 17.82      & 61.1       & 2.54       &  11.0      & 117        & 0          & -1.16      &  0         & 1          & 0          & B         \\\\\n",
       "\\end{tabular}\n"
      ],
      "text/markdown": [
       "\n",
       "| Conc | SA | V | SA/V | Th-SC | Th-Ep | Th-T | Fol-Den | Fol-Dia | Enh | Kow | ConAng | Kow-sw | ConAng-sw | LayerQ |\n",
       "|---|---|---|---|---|---|---|---|---|---|---|---|---|---|---|\n",
       "| 15.8547179 |  1256.637  |   4188.79  | 0.3000000  | 15.00      | 67.5       | 2.48       | 264.8      |  97        | 0          |  0.00      | 72         | 0          | 1          | A          |\n",
       "|  0.1268377 | 31415.927  | 523598.78  | 0.0600000  | 15.00      | 67.5       | 2.48       | 264.8      |  97        | 0          |  0.00      | 72         | 0          | 1          | A          |\n",
       "|  3.9636795 |  3298.672  |  41887.90  | 0.0787500  | 17.80      | 61.1       | 2.54       |  11.0      | 200        | 0          |  0.00      | 72         | 0          | 1          | A          |\n",
       "|  9.4000000 |  4300.840  |  26521.85  | 0.1621622  |  8.90      | 28.6       | 0.70       | 365.5      |  36        | 0          | -1.16      |  0         | 1          | 0          | B          |\n",
       "|  0.2830662 | 10838.495  |  70685.83  | 0.1533333  | 17.80      | 61.1       | 2.54       |  11.0      | 117        | 0          |  0.00      | 25         | 0          | 1          | B          |\n",
       "|  1.0000000 |  4901.670  |  32269.33  | 0.1518987  | 17.82      | 61.1       | 2.54       |  11.0      | 117        | 0          | -1.16      |  0         | 1          | 0          | B          |\n",
       "\n"
      ],
      "text/plain": [
       "  Conc       SA        V         SA/V      Th-SC Th-Ep Th-T Fol-Den Fol-Dia Enh\n",
       "1 15.8547179  1256.637   4188.79 0.3000000 15.00 67.5  2.48 264.8    97     0  \n",
       "2  0.1268377 31415.927 523598.78 0.0600000 15.00 67.5  2.48 264.8    97     0  \n",
       "3  3.9636795  3298.672  41887.90 0.0787500 17.80 61.1  2.54  11.0   200     0  \n",
       "4  9.4000000  4300.840  26521.85 0.1621622  8.90 28.6  0.70 365.5    36     0  \n",
       "5  0.2830662 10838.495  70685.83 0.1533333 17.80 61.1  2.54  11.0   117     0  \n",
       "6  1.0000000  4901.670  32269.33 0.1518987 17.82 61.1  2.54  11.0   117     0  \n",
       "  Kow   ConAng Kow-sw ConAng-sw LayerQ\n",
       "1  0.00 72     0      1         A     \n",
       "2  0.00 72     0      1         A     \n",
       "3  0.00 72     0      1         A     \n",
       "4 -1.16  0     1      0         B     \n",
       "5  0.00 25     0      1         B     \n",
       "6 -1.16  0     1      0         B     "
      ]
     },
     "metadata": {},
     "output_type": "display_data"
    }
   ],
   "source": [
    "all_df = unique(rbind(train_df,validation_df,test_df))\n",
    "summary(all_df)\n",
    "head(all_df)"
   ]
  },
  {
   "cell_type": "code",
   "execution_count": 7,
   "metadata": {},
   "outputs": [
    {
     "data": {
      "image/png": "[encoded data removed]",
      "text/plain": [
       "plot without title"
      ]
     },
     "metadata": {},
     "output_type": "display_data"
    }
   ],
   "source": [
    "options(repr.plot.width=6, repr.plot.height =8)\n",
    "colN <- ncol(all_df)\n",
    "boxList <- sapply(names(all_df[-colN]), function(col) {\n",
    "        ggplot(data = all_df,aes(x = \"\", y = all_df[,col] )) + geom_boxplot(outlier.colour=\"red\") + coord_flip() + \n",
    "        geom_rug(colour=\"blue\") + ylab(col) + xlab(\"\")\n",
    "}, simplify=FALSE)\n",
    "grid.arrange(grobs = boxList, ncol=2)"
   ]
  },
  {
   "cell_type": "code",
   "execution_count": 8,
   "metadata": {},
   "outputs": [
    {
     "data": {
      "image/png": "[encoded data removed]",
      "text/plain": [
       "plot without title"
      ]
     },
     "metadata": {},
     "output_type": "display_data"
    }
   ],
   "source": [
    "# box plot for Conc with removed very far outliers\n",
    "options(repr.plot.width=4, repr.plot.height =1)\n",
    "ggplot(data = all_df[all_df$Conc<500,],aes(x = \"\", y = Conc )) + geom_boxplot(outlier.colour=\"red\") + coord_flip() + \n",
    "        geom_rug(colour=\"blue\") + ylab(\"Conc\") + xlab(\"\")"
   ]
  },
  {
   "cell_type": "markdown",
   "metadata": {},
   "source": [
    "#### Trying to figure out how sparse the data is"
   ]
  },
  {
   "cell_type": "code",
   "execution_count": 9,
   "metadata": {},
   "outputs": [
    {
     "data": {
      "text/html": [
       "<table>\n",
       "<thead><tr><th></th><th scope=col>Conc</th><th scope=col>SA</th><th scope=col>V</th><th scope=col>SA.V</th><th scope=col>Th.SC</th><th scope=col>Th.Ep</th><th scope=col>Th.T</th><th scope=col>Fol.Den</th><th scope=col>Fol.Dia</th><th scope=col>Enh</th><th scope=col>Kow</th><th scope=col>ConAng</th><th scope=col>Kow.sw</th><th scope=col>ConAng.sw</th><th scope=col>LayerQ</th></tr></thead>\n",
       "<tbody>\n",
       "\t<tr><th scope=row>unique elements</th><td>121</td><td>58 </td><td>61 </td><td>62 </td><td>11 </td><td>8  </td><td>6  </td><td>8  </td><td>5  </td><td>2  </td><td>7  </td><td>11 </td><td>2  </td><td>2  </td><td>5  </td></tr>\n",
       "</tbody>\n",
       "</table>\n"
      ],
      "text/latex": [
       "\\begin{tabular}{r|lllllllllllllll}\n",
       "  & Conc & SA & V & SA.V & Th.SC & Th.Ep & Th.T & Fol.Den & Fol.Dia & Enh & Kow & ConAng & Kow.sw & ConAng.sw & LayerQ\\\\\n",
       "\\hline\n",
       "\tunique elements & 121 & 58  & 61  & 62  & 11  & 8   & 6   & 8   & 5   & 2   & 7   & 11  & 2   & 2   & 5  \\\\\n",
       "\\end{tabular}\n"
      ],
      "text/markdown": [
       "\n",
       "| <!--/--> | Conc | SA | V | SA.V | Th.SC | Th.Ep | Th.T | Fol.Den | Fol.Dia | Enh | Kow | ConAng | Kow.sw | ConAng.sw | LayerQ |\n",
       "|---|---|---|---|---|---|---|---|---|---|---|---|---|---|---|---|\n",
       "| unique elements | 121 | 58  | 61  | 62  | 11  | 8   | 6   | 8   | 5   | 2   | 7   | 11  | 2   | 2   | 5   |\n",
       "\n"
      ],
      "text/plain": [
       "                Conc SA V  SA.V Th.SC Th.Ep Th.T Fol.Den Fol.Dia Enh Kow ConAng\n",
       "unique elements 121  58 61 62   11    8     6    8       5       2   7   11    \n",
       "                Kow.sw ConAng.sw LayerQ\n",
       "unique elements 2      2         5     "
      ]
     },
     "metadata": {},
     "output_type": "display_data"
    }
   ],
   "source": [
    "ue <- data.frame(lapply(all_df,function(c) length(unique(c))))\n",
    "rownames(ue) <- c(\"unique elements\")\n",
    "ue"
   ]
  },
  {
   "cell_type": "code",
   "execution_count": 37,
   "metadata": {},
   "outputs": [
    {
     "data": {
      "image/png": "[encoded data removed]",
      "text/plain": [
       "Plot with title \"\""
      ]
     },
     "metadata": {},
     "output_type": "display_data"
    }
   ],
   "source": [
    "options(repr.plot.width=4, repr.plot.height=4)\n",
    "tmp.df <- cbind(all_df[-ncol(all_df)],as.numeric(factor(all_df[[ncol(all_df)]])))\n",
    "colnames(tmp.df)[ncol(tmp.df)] <- \"Class\"\n",
    "corrplot::corrplot(cor(tmp.df))"
   ]
  },
  {
   "cell_type": "markdown",
   "metadata": {},
   "source": [
    "#### t-SNE"
   ]
  },
  {
   "cell_type": "markdown",
   "metadata": {},
   "source": [
    "It can be noticed, that among particular groups different factors influence the skin layer to which the particles will penetrate. This is clearly visible for group B"
   ]
  },
  {
   "cell_type": "code",
   "execution_count": 54,
   "metadata": {},
   "outputs": [
    {
     "data": {
      "image/png": "[encoded data removed]",
      "text/plain": [
       "plot without title"
      ]
     },
     "metadata": {},
     "output_type": "display_data"
    }
   ],
   "source": [
    "d <- duplicated(all_df[,features])\n",
    "tsne_result2 <- Rtsne(all_df[!d,features], dims=2, perplexity=30, verbose=FALSE, max_iter = 10000, theta = 0.0, eta = 100,\n",
    "                      pca_scale = TRUE, normalize = FALSE, pca_center = TRUE)\n",
    "tsne_df2 <- data.frame(x = tsne_result2$Y[,1],y=tsne_result2$Y[,2],labelQ = all_df[!d,labelQ])\n",
    "options(repr.plot.width=6, repr.plot.height = 5)\n",
    "ggplot(data = tsne_df2, aes(x=x,y=y,col=labelQ)) + geom_point()"
   ]
  },
  {
   "cell_type": "markdown",
   "metadata": {},
   "source": [
    "#### Linear PCA"
   ]
  },
  {
   "cell_type": "code",
   "execution_count": 56,
   "metadata": {},
   "outputs": [],
   "source": [
    "pca_transformation <- prcomp(all_df[!d,features],center = TRUE,  scale = TRUE, rank. = 7)"
   ]
  },
  {
   "cell_type": "code",
   "execution_count": 58,
   "metadata": {},
   "outputs": [
    {
     "data": {
      "image/png": "[encoded data removed]",
      "text/plain": [
       "plot without title"
      ]
     },
     "metadata": {},
     "output_type": "display_data"
    },
    {
     "data": {
      "image/png": "[encoded data removed]",
      "text/plain": [
       "plot without title"
      ]
     },
     "metadata": {},
     "output_type": "display_data"
    }
   ],
   "source": [
    "options(repr.plot.width=4, repr.plot.height =4)\n",
    "fviz_pca_var(pca_transformation,axes = c(1, 2))\n",
    "fviz_pca_var(pca_transformation,axes = c(2, 3))"
   ]
  },
  {
   "cell_type": "code",
   "execution_count": 59,
   "metadata": {},
   "outputs": [
    {
     "data": {
      "image/png": "[encoded data removed]",
      "text/plain": [
       "Plot with title \"pca_transformation\""
      ]
     },
     "metadata": {},
     "output_type": "display_data"
    },
    {
     "data": {
      "image/png": "[encoded data removed]",
      "text/plain": [
       "plot without title"
      ]
     },
     "metadata": {},
     "output_type": "display_data"
    },
    {
     "data": {
      "image/png": "[encoded data removed]",
      "text/plain": [
       "plot without title"
      ]
     },
     "metadata": {},
     "output_type": "display_data"
    }
   ],
   "source": [
    "screeplot(pca_transformation)\n",
    "fviz_contrib(pca_transformation,choice=\"var\",axes=1)\n",
    "fviz_contrib(pca_transformation,choice=\"var\",axes=2)"
   ]
  },
  {
   "cell_type": "markdown",
   "metadata": {},
   "source": [
    "#### Checking wether removing $Conc$ outlier will influence the PCA (not really)"
   ]
  },
  {
   "cell_type": "code",
   "execution_count": 60,
   "metadata": {},
   "outputs": [
    {
     "data": {
      "image/png": "[encoded data removed]",
      "text/plain": [
       "plot without title"
      ]
     },
     "metadata": {},
     "output_type": "display_data"
    },
    {
     "data": {
      "image/png": "[encoded data removed]",
      "text/plain": [
       "plot without title"
      ]
     },
     "metadata": {},
     "output_type": "display_data"
    }
   ],
   "source": [
    "pca_transformation <- prcomp(all_df[all_df$Conc<500,features],center = TRUE,  scale = TRUE, rank. = 7)\n",
    "fviz_contrib(pca_transformation,choice=\"var\",axes=1)\n",
    "fviz_contrib(pca_transformation,choice=\"var\",axes=2)"
   ]
  },
  {
   "cell_type": "code",
   "execution_count": null,
   "metadata": {},
   "outputs": [],
   "source": []
  }
 ],
 "metadata": {
  "kernelspec": {
   "display_name": "R",
   "language": "R",
   "name": "ir"
  },
  "language_info": {
   "codemirror_mode": "r",
   "file_extension": ".r",
   "mimetype": "text/x-r-source",
   "name": "R",
   "pygments_lexer": "r",
   "version": "3.6.1"
  }
 },
 "nbformat": 4,
 "nbformat_minor": 2
}
