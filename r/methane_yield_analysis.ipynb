{
 "cells": [
  {
   "cell_type": "markdown",
   "metadata": {},
   "source": [
    "### Data exploratory analysis"
   ]
  },
  {
   "cell_type": "markdown",
   "metadata": {},
   "source": [
    "### Summary\n",
    "\n",
    " - Methane yield is not normally distributed (Shapiro-Wilk normality test p-value = 0.04032, I do not consider this as strong hint on normality, however it is still less than 0.05)\n",
    "\n",
    "**Pretreatment:**\n",
    "\n",
    "- There is no basis to reject the hypothesis that pretreated and not pretreated do not differ significantly (KS p-value = 0.1184)\n",
    "- T-test for mean values does not show significant differences in mean values (samples can be considered as large) p-value = 0.09952\n",
    "- If the \"food waste\" outlier is removed then the T-test results in significant outcome (p-value = 0.00549). \n",
    "- ANOVA does not indicate the influence of the pretreatment to Methane yield (p-value = 0.434) \\[the data is sparse, and not well balanced, the outcome is not robust\\]\n",
    "\n",
    "**Co-substrate**\n",
    "\n",
    " - There is no basis to reject the hypothesis that with and without the co-substrate do not differ significantly (KS p-value = 0.2404)\n",
    " \n",
    " - The T-test does not show significant differences between with and without cosubstrate (p-value = 0,2257)\n",
    " - ANOVA performed for co-substrates with count above 2 (including None == no co-substrate) does not show significant influence (p-value = 0,0859). The outcome may be biased due to unbalanced set, and clearly category None is very spread.\n",
    " - However ANOVA gives significant outcomes, when None cateogory is excluded (p-value = 5,68e-05). Only categories with count above 2 were included \\['Corn stover', 'Manure', 'pretreated meadow grass silage', 'Wheat straw'\\]\n",
    "  \n",
    "**Conclusion**  \n",
    "\n",
    "There are no clear differences between the methane yield distribution in groups with or without co-substrates and pretreated or not pretreated. The dataset is quite small and very sparse in terms of comparing variables *Co-substrate*, *pretreatment*, and *Substrate*. Taking into consideration the fact, that possibly the most influencial factor is *Substrate* (ANOVA p-value = 0,0248) the analysis is not very robust in terms of analysis of the other factors. In order to obtain certain outcomes improved dataset would be required (I know it is not viable). What can be stated:\n",
    "\n",
    " - Methane yield is significantly influenced by the *Substrate*\n",
    " - Methane yield is significantly influenced by the *Co-substrate* in the group with co-substrate added\n",
    " - There are no significant differences between distribution of samples collected from pretreated and not pretreated populations\n",
    " - There are no significant differences between distribution of samples collected from with and without co-substrate\n",
    " \n",
    " Taking into account the fact, all the data was collected, the metaanalysis should be based on the expert knowledge. Due to the abovementioned glitches of the dataset, it is rather unlikely that statistics will provide much support to the research. Exception is the exploratory data visualization.\n"
   ]
  },
  {
   "cell_type": "code",
   "execution_count": 3,
   "metadata": {},
   "outputs": [],
   "source": [
    "library(openxlsx)\n",
    "library(tidyverse)\n",
    "library(ggrepel)"
   ]
  },
  {
   "cell_type": "code",
   "execution_count": 4,
   "metadata": {},
   "outputs": [
    {
     "data": {
      "text/html": [
       "104"
      ],
      "text/latex": [
       "104"
      ],
      "text/markdown": [
       "104"
      ],
      "text/plain": [
       "[1] 104"
      ]
     },
     "metadata": {},
     "output_type": "display_data"
    },
    {
     "data": {
      "text/html": [
       "<table>\n",
       "<thead><tr><th scope=col>Pretreatment</th><th scope=col>Pretreatment.detail</th><th scope=col>Substrate</th><th scope=col>Co-substrate</th><th scope=col>Methane.yield</th><th scope=col>Source</th><th scope=col>Comment</th><th scope=col>pretreated</th><th scope=col>cosubstrated</th><th scope=col>pretreatment</th><th scope=col>pretreatment.detail</th></tr></thead>\n",
       "<tbody>\n",
       "\t<tr><td>thermo-alkaline         </td><td>thermo-alkaline         </td><td>microalgal biomass      </td><td>wheat straw             </td><td>290                     </td><td>Solé-Bundó.M et al.,2017</td><td>NA                      </td><td> TRUE                   </td><td> TRUE                   </td><td>thermo-alkaline         </td><td>thermo-alkaline         </td></tr>\n",
       "\t<tr><td>thermo-alkaline         </td><td>thermo-alkaline         </td><td>microalgal biomass      </td><td>wheat straw             </td><td>295                     </td><td>Solé-Bundó.M et al.,2017</td><td>NA                      </td><td> TRUE                   </td><td> TRUE                   </td><td>thermo-alkaline         </td><td>thermo-alkaline         </td></tr>\n",
       "\t<tr><td>thermo-alkaline         </td><td>thermo-alkaline         </td><td>microalgal biomass      </td><td>wheat straw             </td><td>300                     </td><td>Solé-Bundó.M et al.,2017</td><td>NA                      </td><td> TRUE                   </td><td> TRUE                   </td><td>thermo-alkaline         </td><td>thermo-alkaline         </td></tr>\n",
       "\t<tr><td>thermo-alkaline         </td><td>thermo-alkaline         </td><td>wheat straw             </td><td>none                    </td><td>304                     </td><td>Solé-Bundó.M et al.,2017</td><td>NA                      </td><td> TRUE                   </td><td>FALSE                   </td><td>thermo-alkaline         </td><td>thermo-alkaline         </td></tr>\n",
       "\t<tr><td>none                    </td><td>none                    </td><td>wheat straw             </td><td>none                    </td><td>279                     </td><td>Solé-Bundó.M et al.,2017</td><td>NA                      </td><td>FALSE                   </td><td>FALSE                   </td><td>none                    </td><td>none                    </td></tr>\n",
       "\t<tr><td>none                    </td><td>none                    </td><td>microalgal biomass      </td><td>none                    </td><td>264                     </td><td>Solé-Bundó.M et al.,2017</td><td>NA                      </td><td>FALSE                   </td><td>FALSE                   </td><td>none                    </td><td>none                    </td></tr>\n",
       "</tbody>\n",
       "</table>\n"
      ],
      "text/latex": [
       "\\begin{tabular}{r|lllllllllll}\n",
       " Pretreatment & Pretreatment.detail & Substrate & Co-substrate & Methane.yield & Source & Comment & pretreated & cosubstrated & pretreatment & pretreatment.detail\\\\\n",
       "\\hline\n",
       "\t thermo-alkaline          & thermo-alkaline          & microalgal biomass       & wheat straw              & 290                      & Solé-Bundó.M et al.,2017 & NA                       &  TRUE                    &  TRUE                    & thermo-alkaline          & thermo-alkaline         \\\\\n",
       "\t thermo-alkaline          & thermo-alkaline          & microalgal biomass       & wheat straw              & 295                      & Solé-Bundó.M et al.,2017 & NA                       &  TRUE                    &  TRUE                    & thermo-alkaline          & thermo-alkaline         \\\\\n",
       "\t thermo-alkaline          & thermo-alkaline          & microalgal biomass       & wheat straw              & 300                      & Solé-Bundó.M et al.,2017 & NA                       &  TRUE                    &  TRUE                    & thermo-alkaline          & thermo-alkaline         \\\\\n",
       "\t thermo-alkaline          & thermo-alkaline          & wheat straw              & none                     & 304                      & Solé-Bundó.M et al.,2017 & NA                       &  TRUE                    & FALSE                    & thermo-alkaline          & thermo-alkaline         \\\\\n",
       "\t none                     & none                     & wheat straw              & none                     & 279                      & Solé-Bundó.M et al.,2017 & NA                       & FALSE                    & FALSE                    & none                     & none                    \\\\\n",
       "\t none                     & none                     & microalgal biomass       & none                     & 264                      & Solé-Bundó.M et al.,2017 & NA                       & FALSE                    & FALSE                    & none                     & none                    \\\\\n",
       "\\end{tabular}\n"
      ],
      "text/markdown": [
       "\n",
       "| Pretreatment | Pretreatment.detail | Substrate | Co-substrate | Methane.yield | Source | Comment | pretreated | cosubstrated | pretreatment | pretreatment.detail |\n",
       "|---|---|---|---|---|---|---|---|---|---|---|\n",
       "| thermo-alkaline          | thermo-alkaline          | microalgal biomass       | wheat straw              | 290                      | Solé-Bundó.M et al.,2017 | NA                       |  TRUE                    |  TRUE                    | thermo-alkaline          | thermo-alkaline          |\n",
       "| thermo-alkaline          | thermo-alkaline          | microalgal biomass       | wheat straw              | 295                      | Solé-Bundó.M et al.,2017 | NA                       |  TRUE                    |  TRUE                    | thermo-alkaline          | thermo-alkaline          |\n",
       "| thermo-alkaline          | thermo-alkaline          | microalgal biomass       | wheat straw              | 300                      | Solé-Bundó.M et al.,2017 | NA                       |  TRUE                    |  TRUE                    | thermo-alkaline          | thermo-alkaline          |\n",
       "| thermo-alkaline          | thermo-alkaline          | wheat straw              | none                     | 304                      | Solé-Bundó.M et al.,2017 | NA                       |  TRUE                    | FALSE                    | thermo-alkaline          | thermo-alkaline          |\n",
       "| none                     | none                     | wheat straw              | none                     | 279                      | Solé-Bundó.M et al.,2017 | NA                       | FALSE                    | FALSE                    | none                     | none                     |\n",
       "| none                     | none                     | microalgal biomass       | none                     | 264                      | Solé-Bundó.M et al.,2017 | NA                       | FALSE                    | FALSE                    | none                     | none                     |\n",
       "\n"
      ],
      "text/plain": [
       "  Pretreatment    Pretreatment.detail Substrate          Co-substrate\n",
       "1 thermo-alkaline thermo-alkaline     microalgal biomass wheat straw \n",
       "2 thermo-alkaline thermo-alkaline     microalgal biomass wheat straw \n",
       "3 thermo-alkaline thermo-alkaline     microalgal biomass wheat straw \n",
       "4 thermo-alkaline thermo-alkaline     wheat straw        none        \n",
       "5 none            none                wheat straw        none        \n",
       "6 none            none                microalgal biomass none        \n",
       "  Methane.yield Source                   Comment pretreated cosubstrated\n",
       "1 290           Solé-Bundó.M et al.,2017 NA       TRUE       TRUE       \n",
       "2 295           Solé-Bundó.M et al.,2017 NA       TRUE       TRUE       \n",
       "3 300           Solé-Bundó.M et al.,2017 NA       TRUE       TRUE       \n",
       "4 304           Solé-Bundó.M et al.,2017 NA       TRUE      FALSE       \n",
       "5 279           Solé-Bundó.M et al.,2017 NA      FALSE      FALSE       \n",
       "6 264           Solé-Bundó.M et al.,2017 NA      FALSE      FALSE       \n",
       "  pretreatment    pretreatment.detail\n",
       "1 thermo-alkaline thermo-alkaline    \n",
       "2 thermo-alkaline thermo-alkaline    \n",
       "3 thermo-alkaline thermo-alkaline    \n",
       "4 thermo-alkaline thermo-alkaline    \n",
       "5 none            none               \n",
       "6 none            none               "
      ]
     },
     "metadata": {},
     "output_type": "display_data"
    }
   ],
   "source": [
    "df <- read.xlsx('Biogas _Tableau_prepared.xlsx',sheet = 1)\n",
    "nrow(df)\n",
    "df$Substrate <- factor(df$Substrate,ordered = TRUE , levels = rev(c('chicken manure', 'cow manure', 'pig manure','horse manure', 'mink manure', 'sewage sludge', 'food waste', \n",
    "  'fruit/vegetable waste','microalgal biomass', 'meadow grass silage', 'harvested meadow grass', 'napier grass',\n",
    "  'spruce', 'birch', 'sugar beet', 'straw','oat straw', 'rice straw', 'corn straw', 'wheat straw', 'soybean straw',\n",
    "   'sunflower stalk','sunflower stock' )))\n",
    "df$pretreated <- ifelse(df$Pretreatment == \"none\",FALSE,TRUE)\n",
    "df$cosubstrated <- ifelse(df$`Co-substrate` == \"none\",FALSE,TRUE)\n",
    "df$pretreatment <- factor(df$Pretreatment,ordered = TRUE, \n",
    "                          levels = rev(c(\"none\", \"biological\", \"chemical\", \"mechanical\", \"thermal\", \"thermo-alkaline\",\"thermo-chemical\")))\n",
    "df$pretreatment.detail <- factor(df$Pretreatment.detail,ordered = TRUE, \n",
    "                                 levels = rev(c(\"none\", \"biological\", \"chemical\", \"mechanical\", \"extrusion\", \"thermal\",\"hydrothermal\", \"thermo-alkaline\",\"thermo-chemical\",\"steam explosion\")))\n",
    "head(df)"
   ]
  },
  {
   "cell_type": "markdown",
   "metadata": {},
   "source": [
    "### Normality testing and histograms"
   ]
  },
  {
   "cell_type": "code",
   "execution_count": 39,
   "metadata": {},
   "outputs": [
    {
     "data": {
      "text/plain": [
       "\n",
       "\tShapiro-Wilk normality test\n",
       "\n",
       "data:  df$Methane.yield\n",
       "W = 0.97428, p-value = 0.04032\n"
      ]
     },
     "metadata": {},
     "output_type": "display_data"
    }
   ],
   "source": [
    "shapiro.test(df$Methane.yield)"
   ]
  },
  {
   "cell_type": "code",
   "execution_count": 40,
   "metadata": {},
   "outputs": [
    {
     "data": {
      "image/png": "[encoded data removed]",
      "text/plain": [
       "plot without title"
      ]
     },
     "metadata": {},
     "output_type": "display_data"
    }
   ],
   "source": [
    "options(repr.plot.width = 4, repr.plot.height = 4)\n",
    "ggplot(data=df, aes(df$Methane.yield)) + geom_histogram(bins = round(sqrt(nrow(df)))) + xlab(\"Methane yield\")"
   ]
  },
  {
   "cell_type": "markdown",
   "metadata": {},
   "source": [
    "### Exploring the influence of the pretreatment"
   ]
  },
  {
   "cell_type": "code",
   "execution_count": 41,
   "metadata": {},
   "outputs": [
    {
     "data": {
      "image/png": "[encoded data removed]",
      "text/plain": [
       "plot without title"
      ]
     },
     "metadata": {},
     "output_type": "display_data"
    },
    {
     "data": {
      "image/png": "[encoded data removed]",
      "text/plain": [
       "plot without title"
      ]
     },
     "metadata": {},
     "output_type": "display_data"
    }
   ],
   "source": [
    "options(repr.plot.width = 4, repr.plot.height = 2.5)\n",
    "\n",
    "ggplot(data=df) + geom_boxplot(aes(x = pretreatment, y = Methane.yield)) + \n",
    "              coord_flip() + geom_jitter(aes(x = pretreatment, y = Methane.yield),width = 0.01) + \n",
    "                     ylab(\"Methane yield\") + xlab(\"Pretreatment type\")\n",
    "\n",
    "ggplot(data=df, aes(x = pretreated, y = df$Methane.yield)) + geom_boxplot() + coord_flip() + ylab(\"Methane yield\") "
   ]
  },
  {
   "cell_type": "code",
   "execution_count": 42,
   "metadata": {},
   "outputs": [
    {
     "data": {
      "image/png": "[encoded data removed]",
      "text/plain": [
       "plot without title"
      ]
     },
     "metadata": {},
     "output_type": "display_data"
    }
   ],
   "source": [
    "options(repr.plot.width = 6, repr.plot.height = 4)\n",
    "ggplot() + geom_histogram(alpha = 0.5, aes(df[df$pretreated == TRUE,]$Methane.yield, y = ..density.., fill = \"pretreated\"), bins = 10) + geom_histogram(alpha = 0.5, aes(df[df$pretreated == FALSE,]$Methane.yield, y = ..density.., fill = \"not pretreated\"), bins = 10) + xlab(\"Methane yield\")"
   ]
  },
  {
   "cell_type": "code",
   "execution_count": 43,
   "metadata": {},
   "outputs": [
    {
     "data": {
      "image/png": "[encoded data removed]",
      "text/plain": [
       "plot without title"
      ]
     },
     "metadata": {},
     "output_type": "display_data"
    }
   ],
   "source": [
    "options(repr.plot.width = 6, repr.plot.height = 4)\n",
    "ggplot(data=df, aes(df$Methane.yield, y = ..density..)) + geom_histogram(bins = 10) + facet_wrap( pretreated ~ .) + xlab(\"Methane yield\")"
   ]
  },
  {
   "cell_type": "code",
   "execution_count": 44,
   "metadata": {},
   "outputs": [
    {
     "name": "stderr",
     "output_type": "stream",
     "text": [
      "Warning message in ks.test(df[df$pretreated == TRUE, ]$Methane.yield, df[df$pretreated == :\n",
      "\"cannot compute exact p-value with ties\""
     ]
    },
    {
     "data": {
      "text/plain": [
       "\n",
       "\tTwo-sample Kolmogorov-Smirnov test\n",
       "\n",
       "data:  df[df$pretreated == TRUE, ]$Methane.yield and df[df$pretreated == FALSE, ]$Methane.yield\n",
       "D = 0.26923, p-value = 0.1184\n",
       "alternative hypothesis: two-sided\n"
      ]
     },
     "metadata": {},
     "output_type": "display_data"
    }
   ],
   "source": [
    "ks.test(df[df$pretreated == TRUE,]$Methane.yield,df[df$pretreated == FALSE,]$Methane.yield)"
   ]
  },
  {
   "cell_type": "code",
   "execution_count": 45,
   "metadata": {},
   "outputs": [
    {
     "data": {
      "text/plain": [
       "\n",
       "\tWelch Two Sample t-test\n",
       "\n",
       "data:  X and Y\n",
       "t = -1.3041, df = 43.528, p-value = 0.09952\n",
       "alternative hypothesis: true difference in means is less than 0\n",
       "95 percent confidence interval:\n",
       "     -Inf 9.599149\n",
       "sample estimates:\n",
       "mean of x mean of y \n",
       " 260.5588  293.8087 \n"
      ]
     },
     "metadata": {},
     "output_type": "display_data"
    }
   ],
   "source": [
    "X <- df[df$pretreated == FALSE,\"Methane.yield\"]\n",
    "Y <- df[df$pretreated == TRUE,\"Methane.yield\"]\n",
    "t.test(X, Y,alternative =  \"less\")"
   ]
  },
  {
   "cell_type": "markdown",
   "metadata": {},
   "source": [
    "**However if the outlier is removed, the difference is significant**"
   ]
  },
  {
   "cell_type": "code",
   "execution_count": 47,
   "metadata": {},
   "outputs": [
    {
     "data": {
      "text/plain": [
       "\n",
       "\tWelch Two Sample t-test\n",
       "\n",
       "data:  X and Y\n",
       "t = -2.6364, df = 52.766, p-value = 0.00549\n",
       "alternative hypothesis: true difference in means is less than 0\n",
       "95 percent confidence interval:\n",
       "      -Inf -20.36858\n",
       "sample estimates:\n",
       "mean of x mean of y \n",
       " 237.9971  293.8087 \n"
      ]
     },
     "metadata": {},
     "output_type": "display_data"
    }
   ],
   "source": [
    "X <- df[df$pretreated == FALSE & df$Substrate != \"food waste\",\"Methane.yield\"]\n",
    "Y <- df[df$pretreated == TRUE,\"Methane.yield\"]\n",
    "t.test(X, Y,alternative =  \"less\")"
   ]
  },
  {
   "cell_type": "code",
   "execution_count": 50,
   "metadata": {},
   "outputs": [
    {
     "data": {
      "text/plain": [
       "             Df Sum Sq Mean Sq F value Pr(>F)\n",
       "pretreatment  5  64021   12804   0.984  0.434\n",
       "Residuals    72 936818   13011               "
      ]
     },
     "metadata": {},
     "output_type": "display_data"
    }
   ],
   "source": [
    "pretreated_anova <- aov(Methane.yield ~ pretreatment, data = df[df$pretreated == TRUE,c(\"pretreatment\",\"Methane.yield\")])\n",
    "summary(pretreated_anova)"
   ]
  },
  {
   "cell_type": "code",
   "execution_count": 54,
   "metadata": {},
   "outputs": [
    {
     "data": {
      "text/plain": [
       "             Df  Sum Sq Mean Sq F value Pr(>F)\n",
       "pretreatment  6   85579   14263   1.106  0.365\n",
       "Residuals    97 1251030   12897               "
      ]
     },
     "metadata": {},
     "output_type": "display_data"
    }
   ],
   "source": [
    "pretreated_notpretreated_anova <- aov(Methane.yield ~ pretreatment, data = df[,c(\"pretreatment\",\"Methane.yield\")])\n",
    "summary(pretreated_notpretreated_anova)"
   ]
  },
  {
   "cell_type": "markdown",
   "metadata": {},
   "source": [
    "### Exploring the influence of the co-substrate"
   ]
  },
  {
   "cell_type": "code",
   "execution_count": 55,
   "metadata": {},
   "outputs": [
    {
     "data": {
      "image/png": "[encoded data removed]",
      "text/plain": [
       "plot without title"
      ]
     },
     "metadata": {},
     "output_type": "display_data"
    },
    {
     "data": {
      "image/png": "[encoded data removed]",
      "text/plain": [
       "plot without title"
      ]
     },
     "metadata": {},
     "output_type": "display_data"
    }
   ],
   "source": [
    "options(repr.plot.width = 6, repr.plot.height = 3)\n",
    "ggplot(data=df, aes(x = `Co-substrate`, y = Methane.yield)) + geom_boxplot() + coord_flip() + geom_jitter(width = 0.1) + ylab(\"Methane yield\") + xlab(\"Co-substrate\")\n",
    "options(repr.plot.width = 4, repr.plot.height = 2)\n",
    "ggplot(data=df, aes(x = cosubstrated, y = df$Methane.yield)) + geom_boxplot() + coord_flip() + ylab(\"Methane yield\")"
   ]
  },
  {
   "cell_type": "code",
   "execution_count": 56,
   "metadata": {},
   "outputs": [
    {
     "data": {
      "image/png": "[encoded data removed]",
      "text/plain": [
       "plot without title"
      ]
     },
     "metadata": {},
     "output_type": "display_data"
    }
   ],
   "source": [
    "options(repr.plot.width = 6, repr.plot.height = 4)\n",
    "ggplot() + geom_histogram(alpha = 0.5, aes(df[df$cosubstrated == TRUE,]$Methane.yield, y = ..density.., fill = \"with co-s\"), bins = 10) + geom_histogram(alpha = 0.5, aes(df[df$cosubstrated == FALSE,]$Methane.yield, y = ..density.., fill = \"without co-s\"), bins = 10) + xlab(\"Methane yield\")"
   ]
  },
  {
   "cell_type": "code",
   "execution_count": 57,
   "metadata": {},
   "outputs": [
    {
     "data": {
      "image/png": "[encoded data removed]",
      "text/plain": [
       "plot without title"
      ]
     },
     "metadata": {},
     "output_type": "display_data"
    }
   ],
   "source": [
    "options(repr.plot.width = 6, repr.plot.height = 4)\n",
    "ggplot(data=df, aes(df$Methane.yield, y = ..density..)) + geom_histogram(bins = 10) + facet_wrap( cosubstrated ~ .) + xlab(\"Methane yield\")"
   ]
  },
  {
   "cell_type": "code",
   "execution_count": 58,
   "metadata": {},
   "outputs": [
    {
     "name": "stderr",
     "output_type": "stream",
     "text": [
      "Warning message in ks.test(df[df$cosubstrated == TRUE, ]$Methane.yield, df[df$cosubstrated == :\n",
      "\"cannot compute exact p-value with ties\""
     ]
    },
    {
     "data": {
      "text/plain": [
       "\n",
       "\tTwo-sample Kolmogorov-Smirnov test\n",
       "\n",
       "data:  df[df$cosubstrated == TRUE, ]$Methane.yield and df[df$cosubstrated == FALSE, ]$Methane.yield\n",
       "D = 0.22744, p-value = 0.2404\n",
       "alternative hypothesis: two-sided\n"
      ]
     },
     "metadata": {},
     "output_type": "display_data"
    }
   ],
   "source": [
    "ks.test(df[df$cosubstrated == TRUE,]$Methane.yield,df[df$cosubstrated == FALSE,]$Methane.yield)"
   ]
  },
  {
   "cell_type": "code",
   "execution_count": 59,
   "metadata": {},
   "outputs": [
    {
     "data": {
      "text/plain": [
       "\n",
       "\tWelch Two Sample t-test\n",
       "\n",
       "data:  X and Y\n",
       "t = -0.75429, df = 67.931, p-value = 0.2266\n",
       "alternative hypothesis: true difference in means is less than 0\n",
       "95 percent confidence interval:\n",
       "     -Inf 19.75001\n",
       "sample estimates:\n",
       "mean of x mean of y \n",
       " 281.1047  297.4161 \n"
      ]
     },
     "metadata": {},
     "output_type": "display_data"
    }
   ],
   "source": [
    "X <- df[df$cosubstrated == FALSE,\"Methane.yield\"]\n",
    "Y <- df[df$cosubstrated == TRUE,\"Methane.yield\"]\n",
    "t.test(X, Y,alternative =  \"less\")"
   ]
  },
  {
   "cell_type": "markdown",
   "metadata": {},
   "source": [
    "**Testing ANOVA**"
   ]
  },
  {
   "cell_type": "code",
   "execution_count": 60,
   "metadata": {},
   "outputs": [
    {
     "data": {
      "text/html": [
       "<table>\n",
       "<thead><tr><th scope=col>Co-substrate</th><th scope=col>n</th></tr></thead>\n",
       "<tbody>\n",
       "\t<tr><td>corn straw                    </td><td> 3                            </td></tr>\n",
       "\t<tr><td>manure                        </td><td> 6                            </td></tr>\n",
       "\t<tr><td>none                          </td><td>76                            </td></tr>\n",
       "\t<tr><td>pretreated meadow grass silage</td><td> 4                            </td></tr>\n",
       "\t<tr><td>wheat straw                   </td><td> 6                            </td></tr>\n",
       "</tbody>\n",
       "</table>\n"
      ],
      "text/latex": [
       "\\begin{tabular}{r|ll}\n",
       " Co-substrate & n\\\\\n",
       "\\hline\n",
       "\t corn straw                     &  3                            \\\\\n",
       "\t manure                         &  6                            \\\\\n",
       "\t none                           & 76                            \\\\\n",
       "\t pretreated meadow grass silage &  4                            \\\\\n",
       "\t wheat straw                    &  6                            \\\\\n",
       "\\end{tabular}\n"
      ],
      "text/markdown": [
       "\n",
       "| Co-substrate | n |\n",
       "|---|---|\n",
       "| corn straw                     |  3                             |\n",
       "| manure                         |  6                             |\n",
       "| none                           | 76                             |\n",
       "| pretreated meadow grass silage |  4                             |\n",
       "| wheat straw                    |  6                             |\n",
       "\n"
      ],
      "text/plain": [
       "  Co-substrate                   n \n",
       "1 corn straw                      3\n",
       "2 manure                          6\n",
       "3 none                           76\n",
       "4 pretreated meadow grass silage  4\n",
       "5 wheat straw                     6"
      ]
     },
     "metadata": {},
     "output_type": "display_data"
    }
   ],
   "source": [
    "cs_df <- df %>% group_by(`Co-substrate`) %>% summarise(n=n()) %>% filter(n>2)\n",
    "cs_df"
   ]
  },
  {
   "cell_type": "code",
   "execution_count": 61,
   "metadata": {},
   "outputs": [
    {
     "data": {
      "text/html": [
       "<ol class=list-inline>\n",
       "\t<li>'corn straw'</li>\n",
       "\t<li>'manure'</li>\n",
       "\t<li>'none'</li>\n",
       "\t<li>'pretreated meadow grass silage'</li>\n",
       "\t<li>'wheat straw'</li>\n",
       "</ol>\n"
      ],
      "text/latex": [
       "\\begin{enumerate*}\n",
       "\\item 'corn straw'\n",
       "\\item 'manure'\n",
       "\\item 'none'\n",
       "\\item 'pretreated meadow grass silage'\n",
       "\\item 'wheat straw'\n",
       "\\end{enumerate*}\n"
      ],
      "text/markdown": [
       "1. 'corn straw'\n",
       "2. 'manure'\n",
       "3. 'none'\n",
       "4. 'pretreated meadow grass silage'\n",
       "5. 'wheat straw'\n",
       "\n",
       "\n"
      ],
      "text/plain": [
       "[1] \"corn straw\"                     \"manure\"                        \n",
       "[3] \"none\"                           \"pretreated meadow grass silage\"\n",
       "[5] \"wheat straw\"                   "
      ]
     },
     "metadata": {},
     "output_type": "display_data"
    },
    {
     "data": {
      "text/plain": [
       "               Df  Sum Sq Mean Sq F value Pr(>F)  \n",
       "`Co-substrate`  4  108693   27173   2.109 0.0862 .\n",
       "Residuals      90 1159648   12885                 \n",
       "---\n",
       "Signif. codes:  0 '***' 0.001 '**' 0.01 '*' 0.05 '.' 0.1 ' ' 1"
      ]
     },
     "metadata": {},
     "output_type": "display_data"
    }
   ],
   "source": [
    "cosubs_none <- cs_df$`Co-substrate`\n",
    "cosubs_none\n",
    "\n",
    "cosubstrated_anova <- aov(Methane.yield ~ `Co-substrate`, data = filter(df, `Co-substrate` %in% cosubs_none))\n",
    "summary(cosubstrated_anova) # that is biased by the unbalanced dataset n(None) >> n(others)"
   ]
  },
  {
   "cell_type": "code",
   "execution_count": 63,
   "metadata": {},
   "outputs": [
    {
     "data": {
      "text/html": [
       "<ol class=list-inline>\n",
       "\t<li>'corn straw'</li>\n",
       "\t<li>'manure'</li>\n",
       "\t<li>'pretreated meadow grass silage'</li>\n",
       "\t<li>'wheat straw'</li>\n",
       "</ol>\n"
      ],
      "text/latex": [
       "\\begin{enumerate*}\n",
       "\\item 'corn straw'\n",
       "\\item 'manure'\n",
       "\\item 'pretreated meadow grass silage'\n",
       "\\item 'wheat straw'\n",
       "\\end{enumerate*}\n"
      ],
      "text/markdown": [
       "1. 'corn straw'\n",
       "2. 'manure'\n",
       "3. 'pretreated meadow grass silage'\n",
       "4. 'wheat straw'\n",
       "\n",
       "\n"
      ],
      "text/plain": [
       "[1] \"corn straw\"                     \"manure\"                        \n",
       "[3] \"pretreated meadow grass silage\" \"wheat straw\"                   "
      ]
     },
     "metadata": {},
     "output_type": "display_data"
    },
    {
     "data": {
      "text/plain": [
       "               Df Sum Sq Mean Sq F value   Pr(>F)    \n",
       "`Co-substrate`  3 104970   34990   16.14 5.81e-05 ***\n",
       "Residuals      15  32518    2168                     \n",
       "---\n",
       "Signif. codes:  0 '***' 0.001 '**' 0.01 '*' 0.05 '.' 0.1 ' ' 1"
      ]
     },
     "metadata": {},
     "output_type": "display_data"
    }
   ],
   "source": [
    "cosubs <- cs_df[cs_df$`Co-substrate` != 'none',]$`Co-substrate`\n",
    "cosubs\n",
    "\n",
    "cosubstrated_anova1 <- aov(Methane.yield ~ `Co-substrate`, data = filter(df, `Co-substrate` %in% cosubs))\n",
    "summary(cosubstrated_anova1)"
   ]
  },
  {
   "cell_type": "markdown",
   "metadata": {},
   "source": [
    "Not enough data to cross-compare cosubstrated and pretreated"
   ]
  },
  {
   "cell_type": "code",
   "execution_count": 64,
   "metadata": {},
   "outputs": [
    {
     "data": {
      "image/png": "[encoded data removed]",
      "text/plain": [
       "plot without title"
      ]
     },
     "metadata": {},
     "output_type": "display_data"
    }
   ],
   "source": [
    "options(repr.plot.width = 6, repr.plot.height = 4)\n",
    "ggplot(data=df, aes(df$Methane.yield)) + geom_histogram(bins = 10) + facet_grid( cosubstrated ~ pretreated) + xlab(\"Methane yield\")"
   ]
  },
  {
   "cell_type": "markdown",
   "metadata": {},
   "source": [
    "**Influence of substrate**"
   ]
  },
  {
   "cell_type": "code",
   "execution_count": 82,
   "metadata": {},
   "outputs": [
    {
     "data": {
      "text/html": [
       "<table>\n",
       "<thead><tr><th scope=col>Substrate</th><th scope=col>n</th></tr></thead>\n",
       "<tbody>\n",
       "\t<tr><td>wheat straw          </td><td> 8                   </td></tr>\n",
       "\t<tr><td>corn straw           </td><td> 6                   </td></tr>\n",
       "\t<tr><td>rice straw           </td><td> 4                   </td></tr>\n",
       "\t<tr><td>meadow grass silage  </td><td> 4                   </td></tr>\n",
       "\t<tr><td>microalgal biomass   </td><td> 5                   </td></tr>\n",
       "\t<tr><td>fruit/vegetable waste</td><td> 4                   </td></tr>\n",
       "\t<tr><td>food waste           </td><td> 6                   </td></tr>\n",
       "\t<tr><td>sewage sludge        </td><td>22                   </td></tr>\n",
       "\t<tr><td>pig manure           </td><td>13                   </td></tr>\n",
       "\t<tr><td>cow manure           </td><td>11                   </td></tr>\n",
       "</tbody>\n",
       "</table>\n"
      ],
      "text/latex": [
       "\\begin{tabular}{r|ll}\n",
       " Substrate & n\\\\\n",
       "\\hline\n",
       "\t wheat straw           &  8                   \\\\\n",
       "\t corn straw            &  6                   \\\\\n",
       "\t rice straw            &  4                   \\\\\n",
       "\t meadow grass silage   &  4                   \\\\\n",
       "\t microalgal biomass    &  5                   \\\\\n",
       "\t fruit/vegetable waste &  4                   \\\\\n",
       "\t food waste            &  6                   \\\\\n",
       "\t sewage sludge         & 22                   \\\\\n",
       "\t pig manure            & 13                   \\\\\n",
       "\t cow manure            & 11                   \\\\\n",
       "\\end{tabular}\n"
      ],
      "text/markdown": [
       "\n",
       "| Substrate | n |\n",
       "|---|---|\n",
       "| wheat straw           |  8                    |\n",
       "| corn straw            |  6                    |\n",
       "| rice straw            |  4                    |\n",
       "| meadow grass silage   |  4                    |\n",
       "| microalgal biomass    |  5                    |\n",
       "| fruit/vegetable waste |  4                    |\n",
       "| food waste            |  6                    |\n",
       "| sewage sludge         | 22                    |\n",
       "| pig manure            | 13                    |\n",
       "| cow manure            | 11                    |\n",
       "\n"
      ],
      "text/plain": [
       "   Substrate             n \n",
       "1  wheat straw            8\n",
       "2  corn straw             6\n",
       "3  rice straw             4\n",
       "4  meadow grass silage    4\n",
       "5  microalgal biomass     5\n",
       "6  fruit/vegetable waste  4\n",
       "7  food waste             6\n",
       "8  sewage sludge         22\n",
       "9  pig manure            13\n",
       "10 cow manure            11"
      ]
     },
     "metadata": {},
     "output_type": "display_data"
    },
    {
     "data": {
      "text/html": [
       "<ol class=list-inline>\n",
       "\t<li>wheat straw</li>\n",
       "\t<li>corn straw</li>\n",
       "\t<li>rice straw</li>\n",
       "\t<li>meadow grass silage</li>\n",
       "\t<li>microalgal biomass</li>\n",
       "\t<li>fruit/vegetable waste</li>\n",
       "\t<li>food waste</li>\n",
       "\t<li>sewage sludge</li>\n",
       "\t<li>pig manure</li>\n",
       "\t<li>cow manure</li>\n",
       "</ol>\n",
       "\n",
       "<details>\n",
       "\t<summary style=display:list-item;cursor:pointer>\n",
       "\t\t<strong>Levels</strong>:\n",
       "\t</summary>\n",
       "\t<ol class=list-inline>\n",
       "\t\t<li>'sunflower stock'</li>\n",
       "\t\t<li>'sunflower stalk'</li>\n",
       "\t\t<li>'soybean straw'</li>\n",
       "\t\t<li>'wheat straw'</li>\n",
       "\t\t<li>'corn straw'</li>\n",
       "\t\t<li>'rice straw'</li>\n",
       "\t\t<li>'oat straw'</li>\n",
       "\t\t<li>'straw'</li>\n",
       "\t\t<li>'sugar beet'</li>\n",
       "\t\t<li>'birch'</li>\n",
       "\t\t<li>'spruce'</li>\n",
       "\t\t<li>'napier grass'</li>\n",
       "\t\t<li>'harvested meadow grass'</li>\n",
       "\t\t<li>'meadow grass silage'</li>\n",
       "\t\t<li>'microalgal biomass'</li>\n",
       "\t\t<li>'fruit/vegetable waste'</li>\n",
       "\t\t<li>'food waste'</li>\n",
       "\t\t<li>'sewage sludge'</li>\n",
       "\t\t<li>'mink manure'</li>\n",
       "\t\t<li>'horse manure'</li>\n",
       "\t\t<li>'pig manure'</li>\n",
       "\t\t<li>'cow manure'</li>\n",
       "\t\t<li>'chicken manure'</li>\n",
       "\t</ol>\n",
       "</details>"
      ],
      "text/latex": [
       "\\begin{enumerate*}\n",
       "\\item wheat straw\n",
       "\\item corn straw\n",
       "\\item rice straw\n",
       "\\item meadow grass silage\n",
       "\\item microalgal biomass\n",
       "\\item fruit/vegetable waste\n",
       "\\item food waste\n",
       "\\item sewage sludge\n",
       "\\item pig manure\n",
       "\\item cow manure\n",
       "\\end{enumerate*}\n",
       "\n",
       "\\emph{Levels}: \\begin{enumerate*}\n",
       "\\item 'sunflower stock'\n",
       "\\item 'sunflower stalk'\n",
       "\\item 'soybean straw'\n",
       "\\item 'wheat straw'\n",
       "\\item 'corn straw'\n",
       "\\item 'rice straw'\n",
       "\\item 'oat straw'\n",
       "\\item 'straw'\n",
       "\\item 'sugar beet'\n",
       "\\item 'birch'\n",
       "\\item 'spruce'\n",
       "\\item 'napier grass'\n",
       "\\item 'harvested meadow grass'\n",
       "\\item 'meadow grass silage'\n",
       "\\item 'microalgal biomass'\n",
       "\\item 'fruit/vegetable waste'\n",
       "\\item 'food waste'\n",
       "\\item 'sewage sludge'\n",
       "\\item 'mink manure'\n",
       "\\item 'horse manure'\n",
       "\\item 'pig manure'\n",
       "\\item 'cow manure'\n",
       "\\item 'chicken manure'\n",
       "\\end{enumerate*}\n"
      ],
      "text/markdown": [
       "1. wheat straw\n",
       "2. corn straw\n",
       "3. rice straw\n",
       "4. meadow grass silage\n",
       "5. microalgal biomass\n",
       "6. fruit/vegetable waste\n",
       "7. food waste\n",
       "8. sewage sludge\n",
       "9. pig manure\n",
       "10. cow manure\n",
       "\n",
       "\n",
       "\n",
       "**Levels**: 1. 'sunflower stock'\n",
       "2. 'sunflower stalk'\n",
       "3. 'soybean straw'\n",
       "4. 'wheat straw'\n",
       "5. 'corn straw'\n",
       "6. 'rice straw'\n",
       "7. 'oat straw'\n",
       "8. 'straw'\n",
       "9. 'sugar beet'\n",
       "10. 'birch'\n",
       "11. 'spruce'\n",
       "12. 'napier grass'\n",
       "13. 'harvested meadow grass'\n",
       "14. 'meadow grass silage'\n",
       "15. 'microalgal biomass'\n",
       "16. 'fruit/vegetable waste'\n",
       "17. 'food waste'\n",
       "18. 'sewage sludge'\n",
       "19. 'mink manure'\n",
       "20. 'horse manure'\n",
       "21. 'pig manure'\n",
       "22. 'cow manure'\n",
       "23. 'chicken manure'\n",
       "\n",
       "\n"
      ],
      "text/plain": [
       " [1] wheat straw           corn straw            rice straw           \n",
       " [4] meadow grass silage   microalgal biomass    fruit/vegetable waste\n",
       " [7] food waste            sewage sludge         pig manure           \n",
       "[10] cow manure           \n",
       "23 Levels: sunflower stock < sunflower stalk < ... < chicken manure"
      ]
     },
     "metadata": {},
     "output_type": "display_data"
    },
    {
     "data": {
      "text/plain": [
       "            Df Sum Sq Mean Sq F value Pr(>F)  \n",
       "Substrate    9 197782   21976   1.873 0.0696 .\n",
       "Residuals   73 856534   11733                 \n",
       "---\n",
       "Signif. codes:  0 '***' 0.001 '**' 0.01 '*' 0.05 '.' 0.1 ' ' 1"
      ]
     },
     "metadata": {},
     "output_type": "display_data"
    }
   ],
   "source": [
    "s_df <- df %>% group_by(`Substrate`) %>% summarise(n=n()) %>% filter(n>2)\n",
    "s_df\n",
    "\n",
    "subs <- s_df$Substrate\n",
    "subs\n",
    "\n",
    "substrates_anova <- aov(Methane.yield ~ Substrate, data = filter(df, Substrate %in% subs))\n",
    "summary(substrates_anova)"
   ]
  },
  {
   "cell_type": "code",
   "execution_count": 83,
   "metadata": {},
   "outputs": [
    {
     "data": {
      "image/png": "[encoded data removed]",
      "text/plain": [
       "plot without title"
      ]
     },
     "metadata": {},
     "output_type": "display_data"
    }
   ],
   "source": [
    "options(repr.plot.width = 6, repr.plot.height = 4)\n",
    "ggplot(data=df) + geom_boxplot(aes(x = Substrate, y = Methane.yield)) + coord_flip() + geom_jitter(aes(x = Substrate, y = Methane.yield),width = 0.01) + ylab(\"Methane yield\") + xlab(\"Substrate\")"
   ]
  },
  {
   "cell_type": "code",
   "execution_count": 157,
   "metadata": {},
   "outputs": [
    {
     "data": {
      "text/html": [
       "<table>\n",
       "<thead><tr><th scope=col>Substrate</th><th scope=col>n</th></tr></thead>\n",
       "<tbody>\n",
       "\t<tr><td>sunflower stock       </td><td> 1                    </td></tr>\n",
       "\t<tr><td>sunflower stalk       </td><td> 2                    </td></tr>\n",
       "\t<tr><td>soybean straw         </td><td> 2                    </td></tr>\n",
       "\t<tr><td>wheat straw           </td><td> 8                    </td></tr>\n",
       "\t<tr><td>corn straw            </td><td> 6                    </td></tr>\n",
       "\t<tr><td>rice straw            </td><td> 4                    </td></tr>\n",
       "\t<tr><td>oat straw             </td><td> 1                    </td></tr>\n",
       "\t<tr><td>straw                 </td><td> 2                    </td></tr>\n",
       "\t<tr><td>sugar beet            </td><td> 2                    </td></tr>\n",
       "\t<tr><td>birch                 </td><td> 2                    </td></tr>\n",
       "\t<tr><td>spruce                </td><td> 2                    </td></tr>\n",
       "\t<tr><td>napier grass          </td><td> 1                    </td></tr>\n",
       "\t<tr><td>harvested meadow grass</td><td> 1                    </td></tr>\n",
       "\t<tr><td>meadow grass silage   </td><td> 4                    </td></tr>\n",
       "\t<tr><td>microalgal biomass    </td><td> 5                    </td></tr>\n",
       "\t<tr><td>fruit/vegetable waste </td><td> 4                    </td></tr>\n",
       "\t<tr><td>food waste            </td><td> 6                    </td></tr>\n",
       "\t<tr><td>sewage sludge         </td><td>22                    </td></tr>\n",
       "\t<tr><td>mink manure           </td><td> 2                    </td></tr>\n",
       "\t<tr><td>horse manure          </td><td> 1                    </td></tr>\n",
       "\t<tr><td>pig manure            </td><td>13                    </td></tr>\n",
       "\t<tr><td>cow manure            </td><td>11                    </td></tr>\n",
       "\t<tr><td>chicken manure        </td><td> 2                    </td></tr>\n",
       "</tbody>\n",
       "</table>\n"
      ],
      "text/latex": [
       "\\begin{tabular}{r|ll}\n",
       " Substrate & n\\\\\n",
       "\\hline\n",
       "\t sunflower stock        &  1                    \\\\\n",
       "\t sunflower stalk        &  2                    \\\\\n",
       "\t soybean straw          &  2                    \\\\\n",
       "\t wheat straw            &  8                    \\\\\n",
       "\t corn straw             &  6                    \\\\\n",
       "\t rice straw             &  4                    \\\\\n",
       "\t oat straw              &  1                    \\\\\n",
       "\t straw                  &  2                    \\\\\n",
       "\t sugar beet             &  2                    \\\\\n",
       "\t birch                  &  2                    \\\\\n",
       "\t spruce                 &  2                    \\\\\n",
       "\t napier grass           &  1                    \\\\\n",
       "\t harvested meadow grass &  1                    \\\\\n",
       "\t meadow grass silage    &  4                    \\\\\n",
       "\t microalgal biomass     &  5                    \\\\\n",
       "\t fruit/vegetable waste  &  4                    \\\\\n",
       "\t food waste             &  6                    \\\\\n",
       "\t sewage sludge          & 22                    \\\\\n",
       "\t mink manure            &  2                    \\\\\n",
       "\t horse manure           &  1                    \\\\\n",
       "\t pig manure             & 13                    \\\\\n",
       "\t cow manure             & 11                    \\\\\n",
       "\t chicken manure         &  2                    \\\\\n",
       "\\end{tabular}\n"
      ],
      "text/markdown": [
       "\n",
       "| Substrate | n |\n",
       "|---|---|\n",
       "| sunflower stock        |  1                     |\n",
       "| sunflower stalk        |  2                     |\n",
       "| soybean straw          |  2                     |\n",
       "| wheat straw            |  8                     |\n",
       "| corn straw             |  6                     |\n",
       "| rice straw             |  4                     |\n",
       "| oat straw              |  1                     |\n",
       "| straw                  |  2                     |\n",
       "| sugar beet             |  2                     |\n",
       "| birch                  |  2                     |\n",
       "| spruce                 |  2                     |\n",
       "| napier grass           |  1                     |\n",
       "| harvested meadow grass |  1                     |\n",
       "| meadow grass silage    |  4                     |\n",
       "| microalgal biomass     |  5                     |\n",
       "| fruit/vegetable waste  |  4                     |\n",
       "| food waste             |  6                     |\n",
       "| sewage sludge          | 22                     |\n",
       "| mink manure            |  2                     |\n",
       "| horse manure           |  1                     |\n",
       "| pig manure             | 13                     |\n",
       "| cow manure             | 11                     |\n",
       "| chicken manure         |  2                     |\n",
       "\n"
      ],
      "text/plain": [
       "   Substrate              n \n",
       "1  sunflower stock         1\n",
       "2  sunflower stalk         2\n",
       "3  soybean straw           2\n",
       "4  wheat straw             8\n",
       "5  corn straw              6\n",
       "6  rice straw              4\n",
       "7  oat straw               1\n",
       "8  straw                   2\n",
       "9  sugar beet              2\n",
       "10 birch                   2\n",
       "11 spruce                  2\n",
       "12 napier grass            1\n",
       "13 harvested meadow grass  1\n",
       "14 meadow grass silage     4\n",
       "15 microalgal biomass      5\n",
       "16 fruit/vegetable waste   4\n",
       "17 food waste              6\n",
       "18 sewage sludge          22\n",
       "19 mink manure             2\n",
       "20 horse manure            1\n",
       "21 pig manure             13\n",
       "22 cow manure             11\n",
       "23 chicken manure          2"
      ]
     },
     "metadata": {},
     "output_type": "display_data"
    },
    {
     "data": {
      "image/png": "[encoded data removed]",
      "text/plain": [
       "plot without title"
      ]
     },
     "metadata": {},
     "output_type": "display_data"
    }
   ],
   "source": [
    "options(repr.plot.width = 8, repr.plot.height = 6)\n",
    "p <- ggplot(data=df) + geom_boxplot(aes(x = Substrate, y = Methane.yield)) + \n",
    "         geom_jitter(aes(x = Substrate, y = Methane.yield, col = pretreatment),width = 0.01) + \n",
    "             scale_shape_manual(values=c(0,1,17,5,6,9,15)) + coord_flip() + ylab(\"Methane yield\") + xlab(\"Substrate\") +\n",
    "                 theme_bw() + geom_text_repel(aes(x = Substrate, y = Methane.yield, label = ifelse(`Co-substrate`==\"none\",\"\",`Co-substrate`)),\n",
    "                                              size=2,min.segment.length = 0)\n",
    "p\n",
    "ggsave(\"SVG/plot.svg\",plot=p,width=8, height=6)\n",
    "\n",
    "df %>% group_by(`Substrate`) %>% summarise(n=n())"
   ]
  },
  {
   "cell_type": "code",
   "execution_count": 13,
   "metadata": {},
   "outputs": [
    {
     "data": {
      "image/png": "[encoded data removed]",
      "text/plain": [
       "plot without title"
      ]
     },
     "metadata": {},
     "output_type": "display_data"
    },
    {
     "data": {
      "image/png": "[encoded data removed]",
      "text/plain": [
       "plot without title"
      ]
     },
     "metadata": {},
     "output_type": "display_data"
    }
   ],
   "source": [
    "options(repr.plot.width = 8, repr.plot.height = 2.5)\n",
    "\n",
    "p <- ggplot(data=df) + geom_boxplot(aes(x = pretreatment, y = Methane.yield)) + \n",
    "              coord_flip() + geom_jitter(aes(x = pretreatment, y = Methane.yield,col = pretreatment),width = 0.01) + \n",
    "                     ylab(\"Methane yield\") + xlab(\"Pretreatment\")+ ylim(0,600)\n",
    "p\n",
    "ggsave(\"SVG/pretreatment.svg\",plot=p,width=8, height=2.5)\n",
    "\n",
    "options(repr.plot.width = 8, repr.plot.height = 1)\n",
    "p <- ggplot(data=df, aes(x = pretreated, y = df$Methane.yield)) + geom_boxplot() + \n",
    "     geom_jitter(aes(x = pretreated, y = Methane.yield,col = pretreatment),width = 0.01) + \n",
    "     ylab(\"Methane yield\")+ coord_flip() + ylim(0,600)\n",
    "p\n",
    "ggsave(\"SVG/pretreatment1.svg\",plot=p,width=8, height=6)"
   ]
  },
  {
   "cell_type": "code",
   "execution_count": 156,
   "metadata": {},
   "outputs": [
    {
     "data": {
      "image/png": "[encoded data removed]",
      "text/plain": [
       "plot without title"
      ]
     },
     "metadata": {},
     "output_type": "display_data"
    }
   ],
   "source": [
    "options(repr.plot.width = 4, repr.plot.height = 4)\n",
    "p <- ggplot(data=df, aes(df$Methane.yield)) + geom_histogram(bins = 15,fill=\"white\",col=\"black\") + \n",
    "         xlab(\"Methane yield\") + theme_bw()\n",
    "\n",
    "p\n",
    "ggsave(\"SVG/hist.svg\",plot=p,width=4, height=4)"
   ]
  },
  {
   "cell_type": "code",
   "execution_count": 6,
   "metadata": {},
   "outputs": [
    {
     "data": {
      "image/png": "[encoded data removed]",
      "text/plain": [
       "plot without title"
      ]
     },
     "metadata": {},
     "output_type": "display_data"
    }
   ],
   "source": [
    "options(repr.plot.width = 5, repr.plot.height = 5)\n",
    "ggplot(df,aes(y=Substrate,x=pretreatment)) + geom_bin2d() + \n",
    "    scale_fill_gradient2(low=\"white\",mid=\"orange\", high=\"red\",breaks = c(1,2,4,6,8,10)) + \n",
    "        theme_bw() + theme(axis.text.x = element_text(angle = 45, hjust = 1))"
   ]
  },
  {
   "cell_type": "code",
   "execution_count": 150,
   "metadata": {},
   "outputs": [
    {
     "data": {
      "text/html": [
       "10"
      ],
      "text/latex": [
       "10"
      ],
      "text/markdown": [
       "10"
      ],
      "text/plain": [
       "[1] 10"
      ]
     },
     "metadata": {},
     "output_type": "display_data"
    }
   ],
   "source": [
    "round(sqrt(nrow(df)))"
   ]
  },
  {
   "cell_type": "code",
   "execution_count": null,
   "metadata": {},
   "outputs": [],
   "source": []
  }
 ],
 "metadata": {
  "kernelspec": {
   "display_name": "R",
   "language": "R",
   "name": "ir"
  },
  "language_info": {
   "codemirror_mode": "r",
   "file_extension": ".r",
   "mimetype": "text/x-r-source",
   "name": "R",
   "pygments_lexer": "r",
   "version": "3.6.1"
  }
 },
 "nbformat": 4,
 "nbformat_minor": 2
}
