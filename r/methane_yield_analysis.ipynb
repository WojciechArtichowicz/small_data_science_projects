{
 "cells": [
  {
   "cell_type": "markdown",
   "metadata": {},
   "source": [
    "### Data exploratory analysis"
   ]
  },
  {
   "cell_type": "markdown",
   "metadata": {},
   "source": [
    "### Summary\n",
    "\n",
    " - Methane yield is not normally distributed (Shapiro-Wilk normality test p-value = 0,0405)\n",
    "\n",
    "**Pretreatment:**\n",
    "\n",
    "- There is no basis to reject the hypothesis that pretreated and not pretreated do not differ significantly (KS p-value = 0,1184)\n",
    "- T-test for mean values does not show significant differences in mean values (samples can be considered as large) p-value = 0,09838\n",
    "- If the \"food waste\" outlier is removed then the T-test results in significant outcome (p-value = 0,005393). \n",
    "- ANOVA does not indicate the influence of the pretreatment to Methane yield (p-value = 0,434) \\[the data is sparse, and not well balanced, the outcome is not robust\\]\n",
    "\n",
    "**Co-substrate**\n",
    "\n",
    " - There is no basis to reject the hypothesis that with and without the co-substrate do not differ significantly (KS p-value = 0,2404)\n",
    " \n",
    " - The T-test does not show significant differences between with and without cosubstrate (p-value = 0,2257)\n",
    " - ANOVA performed for co-substrates with count above 2 (including None == no co-substrate) does not show significant influence (p-value = 0,0859). The outcome may be biased due to unbalanced set, and clearly category None is very spread.\n",
    " - However ANOVA gives significant outcomes, when None cateogory is excluded (p-value = 5,68e-05). Only categories with count above 2 were included \\['Corn stover', 'Manure', 'pretreated meadow grass silage', 'Wheat straw'\\]\n",
    "  \n",
    "**Conclusion**  \n",
    "\n",
    "There are no clear differences between the methane yield distribution in groups with or without co-substrates and pretreated or not pretreated. The dataset is quite small and very sparse in terms of comparing variables *Co-substrate*, *pretreatment*, and *Substrate*. Taking into consideration the fact, that possibly the most influencial factor is *Substrate* (ANOVA p-value = 0,0248) the analysis is not very robust in terms of analysis of the other factors. In order to obtain certain outcomes improved dataset would be required (I know it is not viable). What can be stated:\n",
    "\n",
    " - Methane yield is significantly influenced by the *Substrate*\n",
    " - Methane yield is significantly influenced by the *Co-substrate* in the group with co-substrate added\n",
    " - There are no significant differences between distribution of samples collected from pretreated and not pretreated populations\n",
    " - There are no significant differences between distribution of samples collected from with and without co-substrate\n",
    " \n",
    " Taking into account the fact, all the data was collected, the metaanalysis should be based on the expert knowledge. Due to the abovementioned glitches of the dataset, it is rather unlikely that statistics will provide much support to the research. Exception is the exploratory data visualization.\n"
   ]
  },
  {
   "cell_type": "code",
   "execution_count": 134,
   "metadata": {},
   "outputs": [],
   "source": [
    "library(openxlsx)\n",
    "library(ggplot2)\n",
    "library(tidyverse)"
   ]
  },
  {
   "cell_type": "code",
   "execution_count": 168,
   "metadata": {},
   "outputs": [
    {
     "data": {
      "text/html": [
       "104"
      ],
      "text/latex": [
       "104"
      ],
      "text/markdown": [
       "104"
      ],
      "text/plain": [
       "[1] 104"
      ]
     },
     "metadata": {},
     "output_type": "display_data"
    },
    {
     "data": {
      "text/html": [
       "<table>\n",
       "<thead><tr><th scope=col>Pretreatment</th><th scope=col>Substrate</th><th scope=col>Co-substrate</th><th scope=col>Methane.yield</th><th scope=col>pretreated</th><th scope=col>cosubstrated</th><th scope=col>pretreatment_type</th></tr></thead>\n",
       "<tbody>\n",
       "\t<tr><td>Mechanical          </td><td> meadow grass silage</td><td>None                </td><td>353                 </td><td>TRUE                </td><td>FALSE               </td><td>Mechanical          </td></tr>\n",
       "\t<tr><td>Mechanical          </td><td> meadow grass silage</td><td>None                </td><td>359                 </td><td>TRUE                </td><td>FALSE               </td><td>Mechanical          </td></tr>\n",
       "\t<tr><td>Biological          </td><td>Activated sludge    </td><td>None                </td><td>234                 </td><td>TRUE                </td><td>FALSE               </td><td>Biological          </td></tr>\n",
       "\t<tr><td>Biological          </td><td>Activated sludge    </td><td>None                </td><td>279                 </td><td>TRUE                </td><td>FALSE               </td><td>Biological          </td></tr>\n",
       "\t<tr><td>Biological          </td><td>Activated sludge    </td><td>None                </td><td>571                 </td><td>TRUE                </td><td>FALSE               </td><td>Biological          </td></tr>\n",
       "\t<tr><td>Thermo-chemical     </td><td>Activated sludge    </td><td>None                </td><td>520                 </td><td>TRUE                </td><td>FALSE               </td><td>Chemical            </td></tr>\n",
       "</tbody>\n",
       "</table>\n"
      ],
      "text/latex": [
       "\\begin{tabular}{r|lllllll}\n",
       " Pretreatment & Substrate & Co-substrate & Methane.yield & pretreated & cosubstrated & pretreatment\\_type\\\\\n",
       "\\hline\n",
       "\t Mechanical           &  meadow grass silage & None                 & 353                  & TRUE                 & FALSE                & Mechanical          \\\\\n",
       "\t Mechanical           &  meadow grass silage & None                 & 359                  & TRUE                 & FALSE                & Mechanical          \\\\\n",
       "\t Biological           & Activated sludge     & None                 & 234                  & TRUE                 & FALSE                & Biological          \\\\\n",
       "\t Biological           & Activated sludge     & None                 & 279                  & TRUE                 & FALSE                & Biological          \\\\\n",
       "\t Biological           & Activated sludge     & None                 & 571                  & TRUE                 & FALSE                & Biological          \\\\\n",
       "\t Thermo-chemical      & Activated sludge     & None                 & 520                  & TRUE                 & FALSE                & Chemical            \\\\\n",
       "\\end{tabular}\n"
      ],
      "text/markdown": [
       "\n",
       "| Pretreatment | Substrate | Co-substrate | Methane.yield | pretreated | cosubstrated | pretreatment_type |\n",
       "|---|---|---|---|---|---|---|\n",
       "| Mechanical           |  meadow grass silage | None                 | 353                  | TRUE                 | FALSE                | Mechanical           |\n",
       "| Mechanical           |  meadow grass silage | None                 | 359                  | TRUE                 | FALSE                | Mechanical           |\n",
       "| Biological           | Activated sludge     | None                 | 234                  | TRUE                 | FALSE                | Biological           |\n",
       "| Biological           | Activated sludge     | None                 | 279                  | TRUE                 | FALSE                | Biological           |\n",
       "| Biological           | Activated sludge     | None                 | 571                  | TRUE                 | FALSE                | Biological           |\n",
       "| Thermo-chemical      | Activated sludge     | None                 | 520                  | TRUE                 | FALSE                | Chemical             |\n",
       "\n"
      ],
      "text/plain": [
       "  Pretreatment    Substrate            Co-substrate Methane.yield pretreated\n",
       "1 Mechanical       meadow grass silage None         353           TRUE      \n",
       "2 Mechanical       meadow grass silage None         359           TRUE      \n",
       "3 Biological      Activated sludge     None         234           TRUE      \n",
       "4 Biological      Activated sludge     None         279           TRUE      \n",
       "5 Biological      Activated sludge     None         571           TRUE      \n",
       "6 Thermo-chemical Activated sludge     None         520           TRUE      \n",
       "  cosubstrated pretreatment_type\n",
       "1 FALSE        Mechanical       \n",
       "2 FALSE        Mechanical       \n",
       "3 FALSE        Biological       \n",
       "4 FALSE        Biological       \n",
       "5 FALSE        Biological       \n",
       "6 FALSE        Chemical         "
      ]
     },
     "metadata": {},
     "output_type": "display_data"
    }
   ],
   "source": [
    "df <- read.xlsx('Biogas _new_17.09.2019.xlsx',sheet = 2)\n",
    "nrow(df)\n",
    "df$pretreated <- ifelse(df$Pretreatment.g == \"None\",FALSE,TRUE)\n",
    "df$cosubstrated <- ifelse(df$`Co-substrate` == \"None\",FALSE,TRUE)\n",
    "df$pretreatment_type <- as.factor(df$Pretreatment.g)\n",
    "df$Pretreatment.g <- NULL\n",
    "head(df)"
   ]
  },
  {
   "cell_type": "markdown",
   "metadata": {},
   "source": [
    "### Normality testing and histograms"
   ]
  },
  {
   "cell_type": "code",
   "execution_count": 107,
   "metadata": {},
   "outputs": [
    {
     "data": {
      "text/plain": [
       "\n",
       "\tShapiro-Wilk normality test\n",
       "\n",
       "data:  df$Methane.yield\n",
       "W = 0,9743, p-value = 0,0405\n"
      ]
     },
     "metadata": {},
     "output_type": "display_data"
    }
   ],
   "source": [
    "shapiro.test(df$Methane.yield)"
   ]
  },
  {
   "cell_type": "code",
   "execution_count": 83,
   "metadata": {},
   "outputs": [
    {
     "data": {
      "image/png": "[encoded data removed]",
      "text/plain": [
       "plot without title"
      ]
     },
     "metadata": {},
     "output_type": "display_data"
    }
   ],
   "source": [
    "options(repr.plot.width = 4, repr.plot.height = 4)\n",
    "ggplot(data=df, aes(df$Methane.yield)) + geom_histogram(bins = round(sqrt(nrow(df)))) + xlab(\"Methane yield\")"
   ]
  },
  {
   "cell_type": "markdown",
   "metadata": {},
   "source": [
    "### Exploring the influence of the pretreatment"
   ]
  },
  {
   "cell_type": "code",
   "execution_count": 122,
   "metadata": {},
   "outputs": [
    {
     "data": {
      "image/png": "[encoded data removed]",
      "text/plain": [
       "plot without title"
      ]
     },
     "metadata": {},
     "output_type": "display_data"
    },
    {
     "data": {
      "image/png": "[encoded data removed]",
      "text/plain": [
       "plot without title"
      ]
     },
     "metadata": {},
     "output_type": "display_data"
    }
   ],
   "source": [
    "options(repr.plot.width = 4, repr.plot.height = 2)\n",
    "\n",
    "ggplot(data=df, aes(x = pretreatment_type, y = Methane.yield)) + geom_boxplot() + coord_flip() + geom_jitter(width = 0.1) + ylab(\"Methane yield\") + xlab(\"Pretreatment type\")\n",
    "\n",
    "ggplot(data=df, aes(x = pretreated, y = df$Methane.yield)) + geom_boxplot() + coord_flip() + ylab(\"Methane yield\")"
   ]
  },
  {
   "cell_type": "code",
   "execution_count": 118,
   "metadata": {},
   "outputs": [
    {
     "data": {
      "image/png": "[encoded data removed]",
      "text/plain": [
       "plot without title"
      ]
     },
     "metadata": {},
     "output_type": "display_data"
    }
   ],
   "source": [
    "options(repr.plot.width = 6, repr.plot.height = 4)\n",
    "ggplot() + geom_histogram(alpha = 0.5, aes(df[df$pretreated == TRUE,]$Methane.yield, y = ..density.., fill = \"pretreated\"), bins = 10) + geom_histogram(alpha = 0.5, aes(df[df$pretreated == FALSE,]$Methane.yield, y = ..density.., fill = \"not pretreated\"), bins = 10) + xlab(\"Methane yield\")"
   ]
  },
  {
   "cell_type": "code",
   "execution_count": 120,
   "metadata": {},
   "outputs": [
    {
     "data": {
      "image/png": "[encoded data removed]",
      "text/plain": [
       "plot without title"
      ]
     },
     "metadata": {},
     "output_type": "display_data"
    }
   ],
   "source": [
    "options(repr.plot.width = 6, repr.plot.height = 4)\n",
    "ggplot(data=df, aes(df$Methane.yield, y = ..density..)) + geom_histogram(bins = 10) + facet_wrap( pretreated ~ .) + xlab(\"Methane yield\")"
   ]
  },
  {
   "cell_type": "code",
   "execution_count": 121,
   "metadata": {},
   "outputs": [
    {
     "name": "stderr",
     "output_type": "stream",
     "text": [
      "Warning message in ks.test(df[df$pretreated == TRUE, ]$Methane.yield, df[df$pretreated == :\n",
      "“cannot compute exact p-value with ties”"
     ]
    },
    {
     "data": {
      "text/plain": [
       "\n",
       "\tTwo-sample Kolmogorov-Smirnov test\n",
       "\n",
       "data:  df[df$pretreated == TRUE, ]$Methane.yield and df[df$pretreated == FALSE, ]$Methane.yield\n",
       "D = 0,26923, p-value = 0,1184\n",
       "alternative hypothesis: two-sided\n"
      ]
     },
     "metadata": {},
     "output_type": "display_data"
    }
   ],
   "source": [
    "ks.test(df[df$pretreated == TRUE,]$Methane.yield,df[df$pretreated == FALSE,]$Methane.yield)"
   ]
  },
  {
   "cell_type": "code",
   "execution_count": 87,
   "metadata": {},
   "outputs": [
    {
     "data": {
      "text/plain": [
       "\n",
       "\tWelch Two Sample t-test\n",
       "\n",
       "data:  X and Y\n",
       "t = -1,3109, df = 43,524, p-value = 0,09838\n",
       "alternative hypothesis: true difference in means is less than 0\n",
       "95 percent confidence interval:\n",
       "     -Inf 9,430207\n",
       "sample estimates:\n",
       "mean of x mean of y \n",
       " 260,2692  293,7051 \n"
      ]
     },
     "metadata": {},
     "output_type": "display_data"
    }
   ],
   "source": [
    "X <- df[df$pretreated == FALSE,\"Methane.yield\"]\n",
    "Y <- df[df$pretreated == TRUE,\"Methane.yield\"]\n",
    "t.test(X, Y,alternative =  \"less\")"
   ]
  },
  {
   "cell_type": "markdown",
   "metadata": {},
   "source": [
    "**However if the outlier is removed, the difference is significant**"
   ]
  },
  {
   "cell_type": "code",
   "execution_count": 88,
   "metadata": {},
   "outputs": [
    {
     "data": {
      "text/plain": [
       "\n",
       "\tWelch Two Sample t-test\n",
       "\n",
       "data:  X and Y\n",
       "t = -2,6434, df = 52,733, p-value = 0,005393\n",
       "alternative hypothesis: true difference in means is less than 0\n",
       "95 percent confidence interval:\n",
       "     -Inf -20,5292\n",
       "sample estimates:\n",
       "mean of x mean of y \n",
       " 237,7083  293,7051 \n"
      ]
     },
     "metadata": {},
     "output_type": "display_data"
    }
   ],
   "source": [
    "X <- df[df$pretreated == FALSE & df$Substrate != \"Food waste\",\"Methane.yield\"]\n",
    "Y <- df[df$pretreated == TRUE,\"Methane.yield\"]\n",
    "t.test(X, Y,alternative =  \"less\")"
   ]
  },
  {
   "cell_type": "code",
   "execution_count": 129,
   "metadata": {},
   "outputs": [
    {
     "data": {
      "text/plain": [
       "                  Df Sum Sq Mean Sq F value Pr(>F)\n",
       "pretreatment_type  5  64044   12809   0,984  0,434\n",
       "Residuals         72 937440   13020               "
      ]
     },
     "metadata": {},
     "output_type": "display_data"
    }
   ],
   "source": [
    "pretreated_anova <- aov(Methane.yield ~ pretreatment_type, data = df[df$pretreated == TRUE,c(\"pretreatment_type\",\"Methane.yield\")])\n",
    "summary(pretreated_anova)"
   ]
  },
  {
   "cell_type": "code",
   "execution_count": 132,
   "metadata": {},
   "outputs": [
    {
     "data": {
      "text/plain": [
       "                  Df  Sum Sq Mean Sq F value Pr(>F)\n",
       "pretreatment_type  6   85844   14307   1,109  0,363\n",
       "Residuals         97 1251917   12906               "
      ]
     },
     "metadata": {},
     "output_type": "display_data"
    }
   ],
   "source": [
    "pretreated_notpretreated_anova <- aov(Methane.yield ~ pretreatment_type, data = df[,c(\"pretreatment_type\",\"Methane.yield\")])\n",
    "summary(pretreated_notpretreated_anova)"
   ]
  },
  {
   "cell_type": "markdown",
   "metadata": {},
   "source": [
    "### Exploring the influence of the co-substrate"
   ]
  },
  {
   "cell_type": "code",
   "execution_count": 124,
   "metadata": {},
   "outputs": [
    {
     "data": {
      "image/png": "[encoded data removed]",
      "text/plain": [
       "plot without title"
      ]
     },
     "metadata": {},
     "output_type": "display_data"
    },
    {
     "data": {
      "image/png": "[encoded data removed]",
      "text/plain": [
       "plot without title"
      ]
     },
     "metadata": {},
     "output_type": "display_data"
    }
   ],
   "source": [
    "options(repr.plot.width = 6, repr.plot.height = 3)\n",
    "ggplot(data=df, aes(x = `Co-substrate`, y = Methane.yield)) + geom_boxplot() + coord_flip() + geom_jitter(width = 0.1) + ylab(\"Methane yield\") + xlab(\"Co-substrate\")\n",
    "options(repr.plot.width = 4, repr.plot.height = 2)\n",
    "ggplot(data=df, aes(x = cosubstrated, y = df$Methane.yield)) + geom_boxplot() + coord_flip() + ylab(\"Methane yield\")"
   ]
  },
  {
   "cell_type": "code",
   "execution_count": 125,
   "metadata": {},
   "outputs": [
    {
     "data": {
      "image/png": "[encoded data removed]",
      "text/plain": [
       "plot without title"
      ]
     },
     "metadata": {},
     "output_type": "display_data"
    }
   ],
   "source": [
    "options(repr.plot.width = 6, repr.plot.height = 4)\n",
    "ggplot() + geom_histogram(alpha = 0.5, aes(df[df$cosubstrated == TRUE,]$Methane.yield, y = ..density.., fill = \"with co-s\"), bins = 10) + geom_histogram(alpha = 0.5, aes(df[df$cosubstrated == FALSE,]$Methane.yield, y = ..density.., fill = \"withoud co-s\"), bins = 10) + xlab(\"Methane yield\")"
   ]
  },
  {
   "cell_type": "code",
   "execution_count": 126,
   "metadata": {},
   "outputs": [
    {
     "data": {
      "image/png": "[encoded data removed]",
      "text/plain": [
       "plot without title"
      ]
     },
     "metadata": {},
     "output_type": "display_data"
    }
   ],
   "source": [
    "options(repr.plot.width = 6, repr.plot.height = 4)\n",
    "ggplot(data=df, aes(df$Methane.yield, y = ..density..)) + geom_histogram(bins = 10) + facet_wrap( cosubstrated ~ .) + xlab(\"Methane yield\")"
   ]
  },
  {
   "cell_type": "code",
   "execution_count": 128,
   "metadata": {},
   "outputs": [
    {
     "name": "stderr",
     "output_type": "stream",
     "text": [
      "Warning message in ks.test(df[df$cosubstrated == TRUE, ]$Methane.yield, df[df$cosubstrated == :\n",
      "“cannot compute exact p-value with ties”"
     ]
    },
    {
     "data": {
      "text/plain": [
       "\n",
       "\tTwo-sample Kolmogorov-Smirnov test\n",
       "\n",
       "data:  df[df$cosubstrated == TRUE, ]$Methane.yield and df[df$cosubstrated == FALSE, ]$Methane.yield\n",
       "D = 0,22744, p-value = 0,2404\n",
       "alternative hypothesis: two-sided\n"
      ]
     },
     "metadata": {},
     "output_type": "display_data"
    }
   ],
   "source": [
    "ks.test(df[df$cosubstrated == TRUE,]$Methane.yield,df[df$cosubstrated == FALSE,]$Methane.yield)"
   ]
  },
  {
   "cell_type": "code",
   "execution_count": 131,
   "metadata": {},
   "outputs": [
    {
     "data": {
      "text/plain": [
       "\n",
       "\tWelch Two Sample t-test\n",
       "\n",
       "data:  X and Y\n",
       "t = -0,75755, df = 67,946, p-value = 0,2257\n",
       "alternative hypothesis: true difference in means is less than 0\n",
       "95 percent confidence interval:\n",
       "     -Inf 19,68566\n",
       "sample estimates:\n",
       "mean of x mean of y \n",
       " 280,9342  297,3214 \n"
      ]
     },
     "metadata": {},
     "output_type": "display_data"
    }
   ],
   "source": [
    "X <- df[df$cosubstrated == FALSE,\"Methane.yield\"]\n",
    "Y <- df[df$cosubstrated == TRUE,\"Methane.yield\"]\n",
    "t.test(X, Y,alternative =  \"less\")"
   ]
  },
  {
   "cell_type": "markdown",
   "metadata": {},
   "source": [
    "**Testing ANOVA**"
   ]
  },
  {
   "cell_type": "code",
   "execution_count": 171,
   "metadata": {},
   "outputs": [
    {
     "data": {
      "text/html": [
       "<table>\n",
       "<thead><tr><th scope=col>Co-substrate</th><th scope=col>n</th></tr></thead>\n",
       "<tbody>\n",
       "\t<tr><td>Corn stover                   </td><td> 3                            </td></tr>\n",
       "\t<tr><td>Manure                        </td><td> 6                            </td></tr>\n",
       "\t<tr><td>None                          </td><td>76                            </td></tr>\n",
       "\t<tr><td>pretreated meadow grass silage</td><td> 4                            </td></tr>\n",
       "\t<tr><td>Wheat straw                   </td><td> 6                            </td></tr>\n",
       "</tbody>\n",
       "</table>\n"
      ],
      "text/latex": [
       "\\begin{tabular}{r|ll}\n",
       " Co-substrate & n\\\\\n",
       "\\hline\n",
       "\t Corn stover                    &  3                            \\\\\n",
       "\t Manure                         &  6                            \\\\\n",
       "\t None                           & 76                            \\\\\n",
       "\t pretreated meadow grass silage &  4                            \\\\\n",
       "\t Wheat straw                    &  6                            \\\\\n",
       "\\end{tabular}\n"
      ],
      "text/markdown": [
       "\n",
       "| Co-substrate | n |\n",
       "|---|---|\n",
       "| Corn stover                    |  3                             |\n",
       "| Manure                         |  6                             |\n",
       "| None                           | 76                             |\n",
       "| pretreated meadow grass silage |  4                             |\n",
       "| Wheat straw                    |  6                             |\n",
       "\n"
      ],
      "text/plain": [
       "  Co-substrate                   n \n",
       "1 Corn stover                     3\n",
       "2 Manure                          6\n",
       "3 None                           76\n",
       "4 pretreated meadow grass silage  4\n",
       "5 Wheat straw                     6"
      ]
     },
     "metadata": {},
     "output_type": "display_data"
    }
   ],
   "source": [
    "cs_df <- df %>% group_by(`Co-substrate`) %>% summarise(n=n()) %>% filter(n>2)\n",
    "cs_df"
   ]
  },
  {
   "cell_type": "code",
   "execution_count": 164,
   "metadata": {},
   "outputs": [
    {
     "data": {
      "text/html": [
       "<ol class=list-inline>\n",
       "\t<li>'Corn stover'</li>\n",
       "\t<li>'Manure'</li>\n",
       "\t<li>'None'</li>\n",
       "\t<li>'pretreated meadow grass silage'</li>\n",
       "\t<li>'Wheat straw'</li>\n",
       "</ol>\n"
      ],
      "text/latex": [
       "\\begin{enumerate*}\n",
       "\\item 'Corn stover'\n",
       "\\item 'Manure'\n",
       "\\item 'None'\n",
       "\\item 'pretreated meadow grass silage'\n",
       "\\item 'Wheat straw'\n",
       "\\end{enumerate*}\n"
      ],
      "text/markdown": [
       "1. 'Corn stover'\n",
       "2. 'Manure'\n",
       "3. 'None'\n",
       "4. 'pretreated meadow grass silage'\n",
       "5. 'Wheat straw'\n",
       "\n",
       "\n"
      ],
      "text/plain": [
       "[1] \"Corn stover\"                    \"Manure\"                        \n",
       "[3] \"None\"                           \"pretreated meadow grass silage\"\n",
       "[5] \"Wheat straw\"                   "
      ]
     },
     "metadata": {},
     "output_type": "display_data"
    },
    {
     "data": {
      "text/plain": [
       "               Df  Sum Sq Mean Sq F value Pr(>F)  \n",
       "`Co-substrate`  4  108871   27218   2,111 0,0859 .\n",
       "Residuals      90 1160578   12895                 \n",
       "---\n",
       "Signif. codes:  0 ‘***’ 0,001 ‘**’ 0,01 ‘*’ 0,05 ‘.’ 0,1 ‘ ’ 1"
      ]
     },
     "metadata": {},
     "output_type": "display_data"
    }
   ],
   "source": [
    "cosubs_none <- cs_df$`Co-substrate`\n",
    "cosubs_none\n",
    "\n",
    "cosubstrated_anova <- aov(Methane.yield ~ `Co-substrate`, data = filter(df, `Co-substrate` %in% cosubs_none))\n",
    "summary(cosubstrated_anova) # that is biased by the unbalanced dataset n(None) >> n(others)"
   ]
  },
  {
   "cell_type": "code",
   "execution_count": 165,
   "metadata": {},
   "outputs": [
    {
     "data": {
      "text/html": [
       "<ol class=list-inline>\n",
       "\t<li>'Corn stover'</li>\n",
       "\t<li>'Manure'</li>\n",
       "\t<li>'pretreated meadow grass silage'</li>\n",
       "\t<li>'Wheat straw'</li>\n",
       "</ol>\n"
      ],
      "text/latex": [
       "\\begin{enumerate*}\n",
       "\\item 'Corn stover'\n",
       "\\item 'Manure'\n",
       "\\item 'pretreated meadow grass silage'\n",
       "\\item 'Wheat straw'\n",
       "\\end{enumerate*}\n"
      ],
      "text/markdown": [
       "1. 'Corn stover'\n",
       "2. 'Manure'\n",
       "3. 'pretreated meadow grass silage'\n",
       "4. 'Wheat straw'\n",
       "\n",
       "\n"
      ],
      "text/plain": [
       "[1] \"Corn stover\"                    \"Manure\"                        \n",
       "[3] \"pretreated meadow grass silage\" \"Wheat straw\"                   "
      ]
     },
     "metadata": {},
     "output_type": "display_data"
    },
    {
     "data": {
      "text/plain": [
       "               Df Sum Sq Mean Sq F value   Pr(>F)    \n",
       "`Co-substrate`  3 105126   35042    16,2 5,68e-05 ***\n",
       "Residuals      15  32441    2163                     \n",
       "---\n",
       "Signif. codes:  0 ‘***’ 0,001 ‘**’ 0,01 ‘*’ 0,05 ‘.’ 0,1 ‘ ’ 1"
      ]
     },
     "metadata": {},
     "output_type": "display_data"
    }
   ],
   "source": [
    "cosubs <- cs_df[cs_df$`Co-substrate` != 'None',]$`Co-substrate`\n",
    "cosubs\n",
    "\n",
    "cosubstrated_anova1 <- aov(Methane.yield ~ `Co-substrate`, data = filter(df, `Co-substrate` %in% cosubs))\n",
    "summary(cosubstrated_anova1)"
   ]
  },
  {
   "cell_type": "markdown",
   "metadata": {},
   "source": [
    "Not enough data to cross-compare cosubstrated and pretreated"
   ]
  },
  {
   "cell_type": "code",
   "execution_count": 130,
   "metadata": {},
   "outputs": [
    {
     "data": {
      "image/png": "[encoded data removed]",
      "text/plain": [
       "plot without title"
      ]
     },
     "metadata": {},
     "output_type": "display_data"
    }
   ],
   "source": [
    "options(repr.plot.width = 6, repr.plot.height = 4)\n",
    "ggplot(data=df, aes(df$Methane.yield)) + geom_histogram(bins = 10) + facet_grid( cosubstrated ~ pretreated) + xlab(\"Methane yield\")"
   ]
  },
  {
   "cell_type": "markdown",
   "metadata": {},
   "source": [
    "**Influence of substrate**"
   ]
  },
  {
   "cell_type": "code",
   "execution_count": 173,
   "metadata": {},
   "outputs": [
    {
     "data": {
      "text/html": [
       "<table>\n",
       "<thead><tr><th scope=col>Substrate</th><th scope=col>n</th></tr></thead>\n",
       "<tbody>\n",
       "\t<tr><td>Activated sludge  </td><td>16                </td></tr>\n",
       "\t<tr><td>Cow manure        </td><td>10                </td></tr>\n",
       "\t<tr><td>Food waste        </td><td> 6                </td></tr>\n",
       "\t<tr><td>microalgal biomass</td><td> 5                </td></tr>\n",
       "\t<tr><td>Pig manure        </td><td>12                </td></tr>\n",
       "\t<tr><td>Rice straw        </td><td> 4                </td></tr>\n",
       "\t<tr><td>Sludge            </td><td> 6                </td></tr>\n",
       "\t<tr><td>Wheat straw       </td><td> 8                </td></tr>\n",
       "</tbody>\n",
       "</table>\n"
      ],
      "text/latex": [
       "\\begin{tabular}{r|ll}\n",
       " Substrate & n\\\\\n",
       "\\hline\n",
       "\t Activated sludge   & 16                \\\\\n",
       "\t Cow manure         & 10                \\\\\n",
       "\t Food waste         &  6                \\\\\n",
       "\t microalgal biomass &  5                \\\\\n",
       "\t Pig manure         & 12                \\\\\n",
       "\t Rice straw         &  4                \\\\\n",
       "\t Sludge             &  6                \\\\\n",
       "\t Wheat straw        &  8                \\\\\n",
       "\\end{tabular}\n"
      ],
      "text/markdown": [
       "\n",
       "| Substrate | n |\n",
       "|---|---|\n",
       "| Activated sludge   | 16                 |\n",
       "| Cow manure         | 10                 |\n",
       "| Food waste         |  6                 |\n",
       "| microalgal biomass |  5                 |\n",
       "| Pig manure         | 12                 |\n",
       "| Rice straw         |  4                 |\n",
       "| Sludge             |  6                 |\n",
       "| Wheat straw        |  8                 |\n",
       "\n"
      ],
      "text/plain": [
       "  Substrate          n \n",
       "1 Activated sludge   16\n",
       "2 Cow manure         10\n",
       "3 Food waste          6\n",
       "4 microalgal biomass  5\n",
       "5 Pig manure         12\n",
       "6 Rice straw          4\n",
       "7 Sludge              6\n",
       "8 Wheat straw         8"
      ]
     },
     "metadata": {},
     "output_type": "display_data"
    },
    {
     "data": {
      "text/html": [
       "<ol class=list-inline>\n",
       "\t<li>'Activated sludge'</li>\n",
       "\t<li>'Cow manure'</li>\n",
       "\t<li>'Food waste'</li>\n",
       "\t<li>'microalgal biomass'</li>\n",
       "\t<li>'Pig manure'</li>\n",
       "\t<li>'Rice straw'</li>\n",
       "\t<li>'Sludge'</li>\n",
       "\t<li>'Wheat straw'</li>\n",
       "</ol>\n"
      ],
      "text/latex": [
       "\\begin{enumerate*}\n",
       "\\item 'Activated sludge'\n",
       "\\item 'Cow manure'\n",
       "\\item 'Food waste'\n",
       "\\item 'microalgal biomass'\n",
       "\\item 'Pig manure'\n",
       "\\item 'Rice straw'\n",
       "\\item 'Sludge'\n",
       "\\item 'Wheat straw'\n",
       "\\end{enumerate*}\n"
      ],
      "text/markdown": [
       "1. 'Activated sludge'\n",
       "2. 'Cow manure'\n",
       "3. 'Food waste'\n",
       "4. 'microalgal biomass'\n",
       "5. 'Pig manure'\n",
       "6. 'Rice straw'\n",
       "7. 'Sludge'\n",
       "8. 'Wheat straw'\n",
       "\n",
       "\n"
      ],
      "text/plain": [
       "[1] \"Activated sludge\"   \"Cow manure\"         \"Food waste\"        \n",
       "[4] \"microalgal biomass\" \"Pig manure\"         \"Rice straw\"        \n",
       "[7] \"Sludge\"             \"Wheat straw\"       "
      ]
     },
     "metadata": {},
     "output_type": "display_data"
    },
    {
     "data": {
      "text/plain": [
       "            Df Sum Sq Mean Sq F value Pr(>F)  \n",
       "Substrate    7 220557   31508   2,515 0,0248 *\n",
       "Residuals   59 739270   12530                 \n",
       "---\n",
       "Signif. codes:  0 ‘***’ 0,001 ‘**’ 0,01 ‘*’ 0,05 ‘.’ 0,1 ‘ ’ 1"
      ]
     },
     "metadata": {},
     "output_type": "display_data"
    }
   ],
   "source": [
    "s_df <- df %>% group_by(`Substrate`) %>% summarise(n=n()) %>% filter(n>2)\n",
    "s_df\n",
    "\n",
    "subs <- s_df$Substrate\n",
    "subs\n",
    "\n",
    "substrates_anova <- aov(Methane.yield ~ Substrate, data = filter(df, Substrate %in% subs))\n",
    "summary(substrates_anova)"
   ]
  },
  {
   "cell_type": "code",
   "execution_count": null,
   "metadata": {},
   "outputs": [],
   "source": []
  }
 ],
 "metadata": {
  "kernelspec": {
   "display_name": "R",
   "language": "R",
   "name": "ir"
  },
  "language_info": {
   "codemirror_mode": "r",
   "file_extension": ".r",
   "mimetype": "text/x-r-source",
   "name": "R",
   "pygments_lexer": "r",
   "version": "3.6.0"
  }
 },
 "nbformat": 4,
 "nbformat_minor": 2
}
